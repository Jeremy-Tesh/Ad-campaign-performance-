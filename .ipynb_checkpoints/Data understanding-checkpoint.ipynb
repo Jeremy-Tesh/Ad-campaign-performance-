{
 "cells": [
  {
   "cell_type": "code",
   "execution_count": 30,
   "id": "1f04fa4f",
   "metadata": {},
   "outputs": [],
   "source": [
    "import pandas as pd\n",
    "import matplotlib.pyplot as plt\n",
    "import seaborn as sns\n",
    "import numpy as np"
   ]
  },
  {
   "cell_type": "code",
   "execution_count": 31,
   "id": "56d51415",
   "metadata": {},
   "outputs": [
    {
     "data": {
      "text/html": [
       "<div>\n",
       "<style scoped>\n",
       "    .dataframe tbody tr th:only-of-type {\n",
       "        vertical-align: middle;\n",
       "    }\n",
       "\n",
       "    .dataframe tbody tr th {\n",
       "        vertical-align: top;\n",
       "    }\n",
       "\n",
       "    .dataframe thead th {\n",
       "        text-align: right;\n",
       "    }\n",
       "</style>\n",
       "<table border=\"1\" class=\"dataframe\">\n",
       "  <thead>\n",
       "    <tr style=\"text-align: right;\">\n",
       "      <th></th>\n",
       "      <th>auction_id</th>\n",
       "      <th>experiment</th>\n",
       "      <th>date</th>\n",
       "      <th>hour</th>\n",
       "      <th>device_make</th>\n",
       "      <th>platform_os</th>\n",
       "      <th>browser</th>\n",
       "      <th>yes</th>\n",
       "      <th>no</th>\n",
       "    </tr>\n",
       "  </thead>\n",
       "  <tbody>\n",
       "    <tr>\n",
       "      <th>2539</th>\n",
       "      <td>51d4ffcd-14fe-4027-978b-f91f509f5a1c</td>\n",
       "      <td>exposed</td>\n",
       "      <td>2020-07-07</td>\n",
       "      <td>10</td>\n",
       "      <td>Generic Smartphone</td>\n",
       "      <td>6</td>\n",
       "      <td>Chrome Mobile</td>\n",
       "      <td>0</td>\n",
       "      <td>0</td>\n",
       "    </tr>\n",
       "    <tr>\n",
       "      <th>2392</th>\n",
       "      <td>4e257c38-ecbc-4206-a2e0-77f6ccd96f64</td>\n",
       "      <td>exposed</td>\n",
       "      <td>2020-07-04</td>\n",
       "      <td>7</td>\n",
       "      <td>iPhone</td>\n",
       "      <td>5</td>\n",
       "      <td>Chrome Mobile iOS</td>\n",
       "      <td>0</td>\n",
       "      <td>0</td>\n",
       "    </tr>\n",
       "  </tbody>\n",
       "</table>\n",
       "</div>"
      ],
      "text/plain": [
       "                                auction_id experiment        date  hour  \\\n",
       "2539  51d4ffcd-14fe-4027-978b-f91f509f5a1c    exposed  2020-07-07    10   \n",
       "2392  4e257c38-ecbc-4206-a2e0-77f6ccd96f64    exposed  2020-07-04     7   \n",
       "\n",
       "             device_make  platform_os            browser  yes  no  \n",
       "2539  Generic Smartphone            6      Chrome Mobile    0   0  \n",
       "2392              iPhone            5  Chrome Mobile iOS    0   0  "
      ]
     },
     "execution_count": 31,
     "metadata": {},
     "output_type": "execute_result"
    }
   ],
   "source": [
    "df =pd.read_csv('data/AdSmartABdata.csv')\n",
    "df.sample(2)"
   ]
  },
  {
   "cell_type": "code",
   "execution_count": 32,
   "id": "0a3533e5",
   "metadata": {},
   "outputs": [
    {
     "data": {
      "text/html": [
       "<div>\n",
       "<style scoped>\n",
       "    .dataframe tbody tr th:only-of-type {\n",
       "        vertical-align: middle;\n",
       "    }\n",
       "\n",
       "    .dataframe tbody tr th {\n",
       "        vertical-align: top;\n",
       "    }\n",
       "\n",
       "    .dataframe thead th {\n",
       "        text-align: right;\n",
       "    }\n",
       "</style>\n",
       "<table border=\"1\" class=\"dataframe\">\n",
       "  <thead>\n",
       "    <tr style=\"text-align: right;\">\n",
       "      <th></th>\n",
       "      <th>auction_id</th>\n",
       "      <th>experiment</th>\n",
       "      <th>date</th>\n",
       "      <th>hour</th>\n",
       "      <th>device_make</th>\n",
       "      <th>platform_os</th>\n",
       "      <th>browser</th>\n",
       "      <th>yes</th>\n",
       "      <th>no</th>\n",
       "    </tr>\n",
       "  </thead>\n",
       "  <tbody>\n",
       "    <tr>\n",
       "      <th>4038</th>\n",
       "      <td>818f37f3-dae8-4a33-a22e-e54056e0ba7d</td>\n",
       "      <td>control</td>\n",
       "      <td>2020-07-03</td>\n",
       "      <td>15</td>\n",
       "      <td>Samsung SM-A600FN</td>\n",
       "      <td>6</td>\n",
       "      <td>Chrome Mobile WebView</td>\n",
       "      <td>0</td>\n",
       "      <td>0</td>\n",
       "    </tr>\n",
       "    <tr>\n",
       "      <th>4521</th>\n",
       "      <td>902a058f-8a97-47d1-b260-9dc7011fd9fc</td>\n",
       "      <td>control</td>\n",
       "      <td>2020-07-09</td>\n",
       "      <td>13</td>\n",
       "      <td>Samsung SM-G965F</td>\n",
       "      <td>6</td>\n",
       "      <td>Samsung Internet</td>\n",
       "      <td>0</td>\n",
       "      <td>0</td>\n",
       "    </tr>\n",
       "    <tr>\n",
       "      <th>4519</th>\n",
       "      <td>9017d3c0-70cb-4e20-9316-86d54a941375</td>\n",
       "      <td>control</td>\n",
       "      <td>2020-07-10</td>\n",
       "      <td>15</td>\n",
       "      <td>Generic Smartphone</td>\n",
       "      <td>6</td>\n",
       "      <td>Chrome Mobile</td>\n",
       "      <td>0</td>\n",
       "      <td>0</td>\n",
       "    </tr>\n",
       "    <tr>\n",
       "      <th>4517</th>\n",
       "      <td>8fff9d59-1927-4932-9ef6-04068646e0db</td>\n",
       "      <td>control</td>\n",
       "      <td>2020-07-05</td>\n",
       "      <td>14</td>\n",
       "      <td>Generic Smartphone</td>\n",
       "      <td>6</td>\n",
       "      <td>Chrome Mobile</td>\n",
       "      <td>0</td>\n",
       "      <td>0</td>\n",
       "    </tr>\n",
       "    <tr>\n",
       "      <th>4504</th>\n",
       "      <td>8f78ea0d-da5a-43a5-b03a-41b623026007</td>\n",
       "      <td>control</td>\n",
       "      <td>2020-07-03</td>\n",
       "      <td>15</td>\n",
       "      <td>Generic Smartphone</td>\n",
       "      <td>6</td>\n",
       "      <td>Chrome Mobile</td>\n",
       "      <td>0</td>\n",
       "      <td>0</td>\n",
       "    </tr>\n",
       "    <tr>\n",
       "      <th>...</th>\n",
       "      <td>...</td>\n",
       "      <td>...</td>\n",
       "      <td>...</td>\n",
       "      <td>...</td>\n",
       "      <td>...</td>\n",
       "      <td>...</td>\n",
       "      <td>...</td>\n",
       "      <td>...</td>\n",
       "      <td>...</td>\n",
       "    </tr>\n",
       "    <tr>\n",
       "      <th>1673</th>\n",
       "      <td>37396986-4e16-4024-b448-b727d339377a</td>\n",
       "      <td>exposed</td>\n",
       "      <td>2020-07-08</td>\n",
       "      <td>15</td>\n",
       "      <td>OnePlus ONEPLUS A6013</td>\n",
       "      <td>6</td>\n",
       "      <td>Facebook</td>\n",
       "      <td>0</td>\n",
       "      <td>0</td>\n",
       "    </tr>\n",
       "    <tr>\n",
       "      <th>1674</th>\n",
       "      <td>373cba3b-61af-4574-8c52-dc2b2e7ad5bf</td>\n",
       "      <td>exposed</td>\n",
       "      <td>2020-07-04</td>\n",
       "      <td>11</td>\n",
       "      <td>Generic Smartphone</td>\n",
       "      <td>6</td>\n",
       "      <td>Chrome Mobile</td>\n",
       "      <td>0</td>\n",
       "      <td>0</td>\n",
       "    </tr>\n",
       "    <tr>\n",
       "      <th>4755</th>\n",
       "      <td>9795c323-e96b-492c-b8b5-eb05de04a8c1</td>\n",
       "      <td>exposed</td>\n",
       "      <td>2020-07-09</td>\n",
       "      <td>6</td>\n",
       "      <td>Generic Smartphone</td>\n",
       "      <td>6</td>\n",
       "      <td>Chrome Mobile</td>\n",
       "      <td>0</td>\n",
       "      <td>0</td>\n",
       "    </tr>\n",
       "    <tr>\n",
       "      <th>4764</th>\n",
       "      <td>9812db3b-2c00-472d-8d30-a0b06c813357</td>\n",
       "      <td>exposed</td>\n",
       "      <td>2020-07-10</td>\n",
       "      <td>15</td>\n",
       "      <td>Samsung SM-G960F</td>\n",
       "      <td>6</td>\n",
       "      <td>Chrome Mobile WebView</td>\n",
       "      <td>0</td>\n",
       "      <td>0</td>\n",
       "    </tr>\n",
       "    <tr>\n",
       "      <th>0</th>\n",
       "      <td>0008ef63-77a7-448b-bd1e-075f42c55e39</td>\n",
       "      <td>exposed</td>\n",
       "      <td>2020-07-10</td>\n",
       "      <td>8</td>\n",
       "      <td>Generic Smartphone</td>\n",
       "      <td>6</td>\n",
       "      <td>Chrome Mobile</td>\n",
       "      <td>0</td>\n",
       "      <td>0</td>\n",
       "    </tr>\n",
       "  </tbody>\n",
       "</table>\n",
       "<p>8077 rows × 9 columns</p>\n",
       "</div>"
      ],
      "text/plain": [
       "                                auction_id experiment        date  hour  \\\n",
       "4038  818f37f3-dae8-4a33-a22e-e54056e0ba7d    control  2020-07-03    15   \n",
       "4521  902a058f-8a97-47d1-b260-9dc7011fd9fc    control  2020-07-09    13   \n",
       "4519  9017d3c0-70cb-4e20-9316-86d54a941375    control  2020-07-10    15   \n",
       "4517  8fff9d59-1927-4932-9ef6-04068646e0db    control  2020-07-05    14   \n",
       "4504  8f78ea0d-da5a-43a5-b03a-41b623026007    control  2020-07-03    15   \n",
       "...                                    ...        ...         ...   ...   \n",
       "1673  37396986-4e16-4024-b448-b727d339377a    exposed  2020-07-08    15   \n",
       "1674  373cba3b-61af-4574-8c52-dc2b2e7ad5bf    exposed  2020-07-04    11   \n",
       "4755  9795c323-e96b-492c-b8b5-eb05de04a8c1    exposed  2020-07-09     6   \n",
       "4764  9812db3b-2c00-472d-8d30-a0b06c813357    exposed  2020-07-10    15   \n",
       "0     0008ef63-77a7-448b-bd1e-075f42c55e39    exposed  2020-07-10     8   \n",
       "\n",
       "                device_make  platform_os                browser  yes  no  \n",
       "4038      Samsung SM-A600FN            6  Chrome Mobile WebView    0   0  \n",
       "4521       Samsung SM-G965F            6       Samsung Internet    0   0  \n",
       "4519     Generic Smartphone            6          Chrome Mobile    0   0  \n",
       "4517     Generic Smartphone            6          Chrome Mobile    0   0  \n",
       "4504     Generic Smartphone            6          Chrome Mobile    0   0  \n",
       "...                     ...          ...                    ...  ...  ..  \n",
       "1673  OnePlus ONEPLUS A6013            6               Facebook    0   0  \n",
       "1674     Generic Smartphone            6          Chrome Mobile    0   0  \n",
       "4755     Generic Smartphone            6          Chrome Mobile    0   0  \n",
       "4764       Samsung SM-G960F            6  Chrome Mobile WebView    0   0  \n",
       "0        Generic Smartphone            6          Chrome Mobile    0   0  \n",
       "\n",
       "[8077 rows x 9 columns]"
      ]
     },
     "execution_count": 32,
     "metadata": {},
     "output_type": "execute_result"
    }
   ],
   "source": [
    "df.sort_values(by='experiment')"
   ]
  },
  {
   "cell_type": "code",
   "execution_count": 33,
   "id": "d8008d6e",
   "metadata": {},
   "outputs": [
    {
     "name": "stdout",
     "output_type": "stream",
     "text": [
      "Number of unquie users in the experiment: 8077\n",
      "Percentage of users in control: 50 %\n"
     ]
    }
   ],
   "source": [
    "print(f'Number of unquie users in the experiment: {df[\"auction_id\"].nunique()}')\n",
    "print(f'Percentage of users in control: {round(df[df[\"experiment\"]==\"control\"].shape[0] * 100 / df.shape[0])} %')"
   ]
  },
  {
   "cell_type": "code",
   "execution_count": 34,
   "id": "ed493758",
   "metadata": {},
   "outputs": [
    {
     "data": {
      "text/plain": [
       "array(['Chrome Mobile', 'Chrome Mobile WebView', 'Facebook',\n",
       "       'Mobile Safari', 'Chrome Mobile iOS', 'Samsung Internet',\n",
       "       'Mobile Safari UI/WKWebView', 'Chrome', 'Opera Mini',\n",
       "       'Edge Mobile', 'Android', 'Pinterest', 'Opera Mobile',\n",
       "       'Firefox Mobile', 'Puffin'], dtype=object)"
      ]
     },
     "execution_count": 34,
     "metadata": {},
     "output_type": "execute_result"
    }
   ],
   "source": [
    "df.browser.unique()"
   ]
  },
  {
   "cell_type": "code",
   "execution_count": 35,
   "id": "453e634d",
   "metadata": {},
   "outputs": [
    {
     "data": {
      "text/plain": [
       "control    4071\n",
       "exposed    4006\n",
       "Name: experiment, dtype: int64"
      ]
     },
     "execution_count": 35,
     "metadata": {},
     "output_type": "execute_result"
    }
   ],
   "source": [
    "df['experiment'].value_counts()"
   ]
  },
  {
   "cell_type": "markdown",
   "id": "72c8949e",
   "metadata": {},
   "source": [
    "# Univarate Analysis\n"
   ]
  },
  {
   "cell_type": "code",
   "execution_count": 54,
   "id": "38edace0",
   "metadata": {},
   "outputs": [],
   "source": [
    "def plot(df:pd.DataFrame, x_col:str, title:str):\n",
    "    plt.figure(figsize=(12, 6))\n",
    "    plt.title(title);\n",
    "    sns.countplot(data=df, x=x_col)\n",
    "  \n",
    "    plt.show()"
   ]
  },
  {
   "cell_type": "code",
   "execution_count": 55,
   "id": "940f7c0f",
   "metadata": {},
   "outputs": [
    {
     "data": {
      "image/png": "[encoded data removed]",
      "text/plain": [
       "<Figure size 864x432 with 1 Axes>"
      ]
     },
     "metadata": {
      "needs_background": "light"
     },
     "output_type": "display_data"
    }
   ],
   "source": [
    "plot(df,'date','Unique value counts of the date column')"
   ]
  },
  {
   "cell_type": "raw",
   "id": "cc80fd74",
   "metadata": {},
   "source": [
    "#hour counts\n",
    "df['hour'].value_counts()\n"
   ]
  },
  {
   "cell_type": "code",
   "execution_count": 41,
   "id": "29574687",
   "metadata": {},
   "outputs": [
    {
     "data": {
      "image/png": "[encoded data removed]",
      "text/plain": [
       "<Figure size 864x432 with 1 Axes>"
      ]
     },
     "metadata": {
      "needs_background": "light"
     },
     "output_type": "display_data"
    }
   ],
   "source": [
    "plot(df,'hour','Unique value counts of the hour column')"
   ]
  },
  {
   "cell_type": "markdown",
   "id": "cd5b2819",
   "metadata": {},
   "source": [
    "# Hour 15 was the most busiest as the visitors traffic was very high almost 3 times the average of the rest hours."
   ]
  },
  {
   "cell_type": "code",
   "execution_count": 42,
   "id": "c1908855",
   "metadata": {},
   "outputs": [
    {
     "data": {
      "text/plain": [
       "Generic Smartphone     4743\n",
       "iPhone                  433\n",
       "Samsung SM-G960F        203\n",
       "Samsung SM-G973F        154\n",
       "Samsung SM-G950F        148\n",
       "                       ... \n",
       "Samsung SM-A505F          1\n",
       "D5803                     1\n",
       "Samsung SM-G6100          1\n",
       "HTC M10h                  1\n",
       "XiaoMi Redmi Note 5       1\n",
       "Name: device_make, Length: 270, dtype: int64"
      ]
     },
     "execution_count": 42,
     "metadata": {},
     "output_type": "execute_result"
    }
   ],
   "source": [
    "df['device_make'].value_counts()"
   ]
  },
  {
   "cell_type": "code",
   "execution_count": 47,
   "id": "7957bf62",
   "metadata": {},
   "outputs": [
    {
     "data": {
      "text/plain": [
       "6    7648\n",
       "5     428\n",
       "7       1\n",
       "Name: platform_os, dtype: int64"
      ]
     },
     "execution_count": 47,
     "metadata": {},
     "output_type": "execute_result"
    }
   ],
   "source": [
    "df['platform_os'].value_counts()\n"
   ]
  },
  {
   "cell_type": "code",
   "execution_count": 48,
   "id": "6891b5ed",
   "metadata": {},
   "outputs": [
    {
     "data": {
      "image/png": "[encoded data removed]",
      "text/plain": [
       "<Figure size 864x432 with 1 Axes>"
      ]
     },
     "metadata": {
      "needs_background": "light"
     },
     "output_type": "display_data"
    }
   ],
   "source": [
    "plot(df,'platform_os','platform used most',90)"
   ]
  },
  {
   "cell_type": "code",
   "execution_count": 49,
   "id": "0261c190",
   "metadata": {},
   "outputs": [
    {
     "data": {
      "text/plain": [
       "Chrome Mobile                 4554\n",
       "Chrome Mobile WebView         1489\n",
       "Samsung Internet               824\n",
       "Facebook                       764\n",
       "Mobile Safari                  337\n",
       "Chrome Mobile iOS               51\n",
       "Mobile Safari UI/WKWebView      44\n",
       "Chrome                           3\n",
       "Pinterest                        3\n",
       "Opera Mobile                     3\n",
       "Opera Mini                       1\n",
       "Edge Mobile                      1\n",
       "Android                          1\n",
       "Firefox Mobile                   1\n",
       "Puffin                           1\n",
       "Name: browser, dtype: int64"
      ]
     },
     "execution_count": 49,
     "metadata": {},
     "output_type": "execute_result"
    }
   ],
   "source": [
    "df['browser'].value_counts()"
   ]
  },
  {
   "cell_type": "code",
   "execution_count": 60,
   "id": "1528b7bb",
   "metadata": {},
   "outputs": [
    {
     "data": {
      "image/png": "[encoded data removed]",
      "text/plain": [
       "<Figure size 864x432 with 1 Axes>"
      ]
     },
     "metadata": {
      "needs_background": "light"
     },
     "output_type": "display_data"
    }
   ],
   "source": [
    "plt.figure(figsize=(12, 6))\n",
    "sns.countplot(data=df, x=\"browser\")\n",
    "plt.title('Browser used')\n",
    "plt.xticks(rotation=45)\n",
    "plt.show()\n"
   ]
  },
  {
   "cell_type": "markdown",
   "id": "881deeed",
   "metadata": {},
   "source": [
    "# Chrome is the most used browser"
   ]
  },
  {
   "cell_type": "code",
   "execution_count": 61,
   "id": "e3df98d5",
   "metadata": {},
   "outputs": [
    {
     "data": {
      "text/plain": [
       "0    7406\n",
       "1     671\n",
       "Name: no, dtype: int64"
      ]
     },
     "execution_count": 61,
     "metadata": {},
     "output_type": "execute_result"
    }
   ],
   "source": [
    "df['no'].value_counts()"
   ]
  },
  {
   "cell_type": "markdown",
   "id": "9c712a95",
   "metadata": {},
   "source": [
    "# Bivariate Analysis\n"
   ]
  },
  {
   "cell_type": "code",
   "execution_count": 62,
   "id": "df214a5d",
   "metadata": {},
   "outputs": [],
   "source": [
    "def bi_plot(df:pd.DataFrame, x_col:str, y_col:str, title:str):\n",
    "    plt.figure(figsize=(12, 6))\n",
    "    sns.countplot(data=df, x=x_col , hue = y_col)\n",
    "    plt.title(title)\n",
    "    plt.show()\n",
    "    "
   ]
  },
  {
   "cell_type": "code",
   "execution_count": 66,
   "id": "58b5f5c1",
   "metadata": {},
   "outputs": [
    {
     "data": {
      "image/png": "[encoded data removed]",
      "text/plain": [
       "<Figure size 864x432 with 1 Axes>"
      ]
     },
     "metadata": {
      "needs_background": "light"
     },
     "output_type": "display_data"
    }
   ],
   "source": [
    "bi_plot(df,'date','experiment','Date Experiment')"
   ]
  },
  {
   "cell_type": "code",
   "execution_count": 65,
   "id": "eb02a2eb",
   "metadata": {},
   "outputs": [
    {
     "data": {
      "image/png": "[encoded data removed]",
      "text/plain": [
       "<Figure size 864x432 with 1 Axes>"
      ]
     },
     "metadata": {
      "needs_background": "light"
     },
     "output_type": "display_data"
    }
   ],
   "source": [
    "bi_plot(df,'hour','experiment','Hour Experiment')"
   ]
  },
  {
   "cell_type": "code",
   "execution_count": 67,
   "id": "0e4a24ee",
   "metadata": {},
   "outputs": [
    {
     "data": {
      "image/png": "[encoded data removed]",
      "text/plain": [
       "<Figure size 864x432 with 1 Axes>"
      ]
     },
     "metadata": {
      "needs_background": "light"
     },
     "output_type": "display_data"
    }
   ],
   "source": [
    "bi_plot(df,'browser','experiment','Browser Experiment')"
   ]
  },
  {
   "cell_type": "code",
   "execution_count": null,
   "id": "1c7dfbdc",
   "metadata": {},
   "outputs": [],
   "source": []
  }
 ],
 "metadata": {
  "kernelspec": {
   "display_name": "Python 3 (ipykernel)",
   "language": "python",
   "name": "python3"
  },
  "language_info": {
   "codemirror_mode": {
    "name": "ipython",
    "version": 3
   },
   "file_extension": ".py",
   "mimetype": "text/x-python",
   "name": "python",
   "nbconvert_exporter": "python",
   "pygments_lexer": "ipython3",
   "version": "3.9.7"
  }
 },
 "nbformat": 4,
 "nbformat_minor": 5
}

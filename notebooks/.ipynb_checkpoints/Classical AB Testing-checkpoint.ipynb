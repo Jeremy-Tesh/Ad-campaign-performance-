{
 "cells": [
  {
   "cell_type": "code",
   "execution_count": 3,
   "id": "35cb5854",
   "metadata": {},
   "outputs": [],
   "source": [
    "import pandas as pd\n",
    "import numpy as np\n",
    "import matplotlib.pyplot as plt\n",
    "import scipy\n",
    "import scipy.stats as scs\n",
    "import sys\n",
    "import os\n"
   ]
  },
  {
   "cell_type": "code",
   "execution_count": 4,
   "id": "0eaed42e",
   "metadata": {},
   "outputs": [],
   "source": [
    "sys.path.append(os.path.abspath(os.path.join('../scripts')))\n",
    "from plot import *"
   ]
  },
  {
   "cell_type": "code",
   "execution_count": 6,
   "id": "b13351eb",
   "metadata": {},
   "outputs": [],
   "source": [
    "#Reading data\n",
    "df =pd.read_csv('../data/AdSmartABdata.csv')"
   ]
  },
  {
   "cell_type": "code",
   "execution_count": 7,
   "id": "4329f5cb",
   "metadata": {},
   "outputs": [],
   "source": [
    "# Filter out users that were not interacting\n",
    "relevant_rows = df.query('yes == 1 | no == 1')"
   ]
  },
  {
   "cell_type": "code",
   "execution_count": 8,
   "id": "33a2f0ff",
   "metadata": {},
   "outputs": [
    {
     "name": "stdout",
     "output_type": "stream",
     "text": [
      "The exposed group dataframe has 657 observations\n",
      "The control group dataframe has 586 observations\n",
      "The conversion rate in the exposed group is equal to 46.88%\n",
      "The conversion rate in the exposed group is equal to 45.05%\n"
     ]
    }
   ],
   "source": [
    "exposed = relevant_rows.query('experiment == \"exposed\"')\n",
    "control = relevant_rows.query('experiment == \"control\"')\n",
    "\n",
    "# Calculate a number of observation in both groups\n",
    "print('The exposed group dataframe has {} observations'. format(exposed.shape[0]))\n",
    "print('The control group dataframe has {} observations'. format(control.shape[0]))\n",
    "\n",
    "contr_d1 = '{0:.2f}%'.format(exposed.yes.mean()*100)\n",
    "trtm_d1 = '{0:.2f}%'.format(control.yes.mean()*100)\n",
    "print('The conversion rate in the exposed group is equal to {}'.format(contr_d1))\n",
    "print('The conversion rate in the exposed group is equal to {}'.format(trtm_d1))"
   ]
  },
  {
   "cell_type": "code",
   "execution_count": 9,
   "id": "ec080651",
   "metadata": {},
   "outputs": [
    {
     "data": {
      "text/plain": [
       "(1243, 9)"
      ]
     },
     "execution_count": 9,
     "metadata": {},
     "output_type": "execute_result"
    }
   ],
   "source": [
    "# Filter out users that were not interacting\n",
    "temp_df = df.query(\"not (yes == 0 & no == 0)\")\n",
    "temp_df.shape"
   ]
  },
  {
   "cell_type": "markdown",
   "id": "7a0f4e05",
   "metadata": {},
   "source": [
    "Only 1243 users out of 8077 responded to the questionaire. So we will drop users who haven't responded."
   ]
  },
  {
   "cell_type": "code",
   "execution_count": 10,
   "id": "db1e99f5",
   "metadata": {},
   "outputs": [
    {
     "name": "stderr",
     "output_type": "stream",
     "text": [
      "/tmp/ipykernel_39816/2611879631.py:2: SettingWithCopyWarning: \n",
      "A value is trying to be set on a copy of a slice from a DataFrame.\n",
      "Try using .loc[row_indexer,col_indexer] = value instead\n",
      "\n",
      "See the caveats in the documentation: https://pandas.pydata.org/pandas-docs/stable/user_guide/indexing.html#returning-a-view-versus-a-copy\n",
      "  clean_df['aware'] = 0\n",
      "/home/ermi/anaconda3/lib/python3.9/site-packages/pandas/core/indexing.py:1817: SettingWithCopyWarning: \n",
      "A value is trying to be set on a copy of a slice from a DataFrame.\n",
      "Try using .loc[row_indexer,col_indexer] = value instead\n",
      "\n",
      "See the caveats in the documentation: https://pandas.pydata.org/pandas-docs/stable/user_guide/indexing.html#returning-a-view-versus-a-copy\n",
      "  self._setitem_single_column(loc, value, pi)\n",
      "/home/ermi/anaconda3/lib/python3.9/site-packages/pandas/core/frame.py:4906: SettingWithCopyWarning: \n",
      "A value is trying to be set on a copy of a slice from a DataFrame\n",
      "\n",
      "See the caveats in the documentation: https://pandas.pydata.org/pandas-docs/stable/user_guide/indexing.html#returning-a-view-versus-a-copy\n",
      "  return super().drop(\n"
     ]
    },
    {
     "data": {
      "text/html": [
       "<div>\n",
       "<style scoped>\n",
       "    .dataframe tbody tr th:only-of-type {\n",
       "        vertical-align: middle;\n",
       "    }\n",
       "\n",
       "    .dataframe tbody tr th {\n",
       "        vertical-align: top;\n",
       "    }\n",
       "\n",
       "    .dataframe thead th {\n",
       "        text-align: right;\n",
       "    }\n",
       "</style>\n",
       "<table border=\"1\" class=\"dataframe\">\n",
       "  <thead>\n",
       "    <tr style=\"text-align: right;\">\n",
       "      <th></th>\n",
       "      <th>experiment</th>\n",
       "      <th>aware</th>\n",
       "    </tr>\n",
       "    <tr>\n",
       "      <th>auction_id</th>\n",
       "      <th></th>\n",
       "      <th></th>\n",
       "    </tr>\n",
       "  </thead>\n",
       "  <tbody>\n",
       "    <tr>\n",
       "      <th>0016d14a-ae18-4a02-a204-6ba53b52f2ed</th>\n",
       "      <td>exposed</td>\n",
       "      <td>0</td>\n",
       "    </tr>\n",
       "    <tr>\n",
       "      <th>008aafdf-deef-4482-8fec-d98e3da054da</th>\n",
       "      <td>exposed</td>\n",
       "      <td>1</td>\n",
       "    </tr>\n",
       "    <tr>\n",
       "      <th>00a1384a-5118-4d1b-925b-6cdada50318d</th>\n",
       "      <td>exposed</td>\n",
       "      <td>0</td>\n",
       "    </tr>\n",
       "    <tr>\n",
       "      <th>00b6fadb-10bd-49e3-a778-290da82f7a8d</th>\n",
       "      <td>control</td>\n",
       "      <td>1</td>\n",
       "    </tr>\n",
       "    <tr>\n",
       "      <th>00ebf4a8-060f-4b99-93ac-c62724399483</th>\n",
       "      <td>control</td>\n",
       "      <td>0</td>\n",
       "    </tr>\n",
       "    <tr>\n",
       "      <th>...</th>\n",
       "      <td>...</td>\n",
       "      <td>...</td>\n",
       "    </tr>\n",
       "    <tr>\n",
       "      <th>ffa08ff9-a132-4051-aef5-01a9c79367bc</th>\n",
       "      <td>exposed</td>\n",
       "      <td>1</td>\n",
       "    </tr>\n",
       "    <tr>\n",
       "      <th>ffb176df-ecd2-45d3-b05f-05b173a093a7</th>\n",
       "      <td>exposed</td>\n",
       "      <td>1</td>\n",
       "    </tr>\n",
       "    <tr>\n",
       "      <th>ffb79718-6f25-4896-b6b3-e58b80a6e147</th>\n",
       "      <td>control</td>\n",
       "      <td>0</td>\n",
       "    </tr>\n",
       "    <tr>\n",
       "      <th>ffca1153-c182-4f32-9e90-2a6008417497</th>\n",
       "      <td>control</td>\n",
       "      <td>0</td>\n",
       "    </tr>\n",
       "    <tr>\n",
       "      <th>ffdfdc09-48c7-4bfb-80f8-ec1eb633602b</th>\n",
       "      <td>exposed</td>\n",
       "      <td>0</td>\n",
       "    </tr>\n",
       "  </tbody>\n",
       "</table>\n",
       "<p>1243 rows × 2 columns</p>\n",
       "</div>"
      ],
      "text/plain": [
       "                                     experiment  aware\n",
       "auction_id                                            \n",
       "0016d14a-ae18-4a02-a204-6ba53b52f2ed    exposed      0\n",
       "008aafdf-deef-4482-8fec-d98e3da054da    exposed      1\n",
       "00a1384a-5118-4d1b-925b-6cdada50318d    exposed      0\n",
       "00b6fadb-10bd-49e3-a778-290da82f7a8d    control      1\n",
       "00ebf4a8-060f-4b99-93ac-c62724399483    control      0\n",
       "...                                         ...    ...\n",
       "ffa08ff9-a132-4051-aef5-01a9c79367bc    exposed      1\n",
       "ffb176df-ecd2-45d3-b05f-05b173a093a7    exposed      1\n",
       "ffb79718-6f25-4896-b6b3-e58b80a6e147    control      0\n",
       "ffca1153-c182-4f32-9e90-2a6008417497    control      0\n",
       "ffdfdc09-48c7-4bfb-80f8-ec1eb633602b    exposed      0\n",
       "\n",
       "[1243 rows x 2 columns]"
      ]
     },
     "execution_count": 10,
     "metadata": {},
     "output_type": "execute_result"
    }
   ],
   "source": [
    "clean_df = temp_df[['auction_id', 'experiment', 'yes', 'no']]\n",
    "clean_df['aware'] = 0\n",
    "clean_df.loc[clean_df['yes'] == 1, 'aware'] = 1\n",
    "clean_df.loc[clean_df['yes'] == 0, 'aware'] = 0\n",
    "clean_df.drop(columns=['yes', 'no'], inplace=True)\n",
    "clean_df = clean_df.set_index('auction_id')\n",
    "clean_df"
   ]
  },
  {
   "cell_type": "markdown",
   "id": "c8ce24dc",
   "metadata": {},
   "source": [
    "The aware column indicates whether a user is aware of the brand or not with a 1 or 0, respectively."
   ]
  },
  {
   "cell_type": "code",
   "execution_count": 11,
   "id": "817fe451",
   "metadata": {},
   "outputs": [
    {
     "data": {
      "text/html": [
       "<div>\n",
       "<style scoped>\n",
       "    .dataframe tbody tr th:only-of-type {\n",
       "        vertical-align: middle;\n",
       "    }\n",
       "\n",
       "    .dataframe tbody tr th {\n",
       "        vertical-align: top;\n",
       "    }\n",
       "\n",
       "    .dataframe thead th {\n",
       "        text-align: right;\n",
       "    }\n",
       "</style>\n",
       "<table border=\"1\" class=\"dataframe\">\n",
       "  <thead>\n",
       "    <tr style=\"text-align: right;\">\n",
       "      <th></th>\n",
       "      <th>aware</th>\n",
       "      <th>total</th>\n",
       "      <th>rate</th>\n",
       "    </tr>\n",
       "    <tr>\n",
       "      <th>experiment</th>\n",
       "      <th></th>\n",
       "      <th></th>\n",
       "      <th></th>\n",
       "    </tr>\n",
       "  </thead>\n",
       "  <tbody>\n",
       "    <tr>\n",
       "      <th>control</th>\n",
       "      <td>264</td>\n",
       "      <td>586</td>\n",
       "      <td>0.450512</td>\n",
       "    </tr>\n",
       "    <tr>\n",
       "      <th>exposed</th>\n",
       "      <td>308</td>\n",
       "      <td>657</td>\n",
       "      <td>0.468798</td>\n",
       "    </tr>\n",
       "  </tbody>\n",
       "</table>\n",
       "</div>"
      ],
      "text/plain": [
       "            aware  total      rate\n",
       "experiment                        \n",
       "control       264    586  0.450512\n",
       "exposed       308    657  0.468798"
      ]
     },
     "execution_count": 11,
     "metadata": {},
     "output_type": "execute_result"
    }
   ],
   "source": [
    "summary = clean_df.pivot_table(values='aware', index='experiment', aggfunc=np.sum)\n",
    "# add additional columns to the pivot table\n",
    "summary['total'] = clean_df.pivot_table(values='aware', index='experiment', aggfunc=lambda x: len(x))\n",
    "summary['rate'] = clean_df.pivot_table(values='aware', index='experiment')\n",
    "summary"
   ]
  },
  {
   "cell_type": "code",
   "execution_count": 12,
   "id": "a6bdcee7",
   "metadata": {},
   "outputs": [
    {
     "data": {
      "text/html": [
       "<div>\n",
       "<style scoped>\n",
       "    .dataframe tbody tr th:only-of-type {\n",
       "        vertical-align: middle;\n",
       "    }\n",
       "\n",
       "    .dataframe tbody tr th {\n",
       "        vertical-align: top;\n",
       "    }\n",
       "\n",
       "    .dataframe thead th {\n",
       "        text-align: right;\n",
       "    }\n",
       "</style>\n",
       "<table border=\"1\" class=\"dataframe\">\n",
       "  <thead>\n",
       "    <tr style=\"text-align: right;\">\n",
       "      <th></th>\n",
       "      <th>aware</th>\n",
       "      <th>not aware</th>\n",
       "      <th>total</th>\n",
       "      <th>rate</th>\n",
       "    </tr>\n",
       "    <tr>\n",
       "      <th>experiment</th>\n",
       "      <th></th>\n",
       "      <th></th>\n",
       "      <th></th>\n",
       "      <th></th>\n",
       "    </tr>\n",
       "  </thead>\n",
       "  <tbody>\n",
       "    <tr>\n",
       "      <th>control</th>\n",
       "      <td>264</td>\n",
       "      <td>322</td>\n",
       "      <td>586</td>\n",
       "      <td>0.450512</td>\n",
       "    </tr>\n",
       "    <tr>\n",
       "      <th>exposed</th>\n",
       "      <td>308</td>\n",
       "      <td>349</td>\n",
       "      <td>657</td>\n",
       "      <td>0.468798</td>\n",
       "    </tr>\n",
       "  </tbody>\n",
       "</table>\n",
       "</div>"
      ],
      "text/plain": [
       "            aware  not aware  total      rate\n",
       "experiment                                   \n",
       "control       264        322    586  0.450512\n",
       "exposed       308        349    657  0.468798"
      ]
     },
     "execution_count": 12,
     "metadata": {},
     "output_type": "execute_result"
    }
   ],
   "source": [
    "summary_df = clean_df.pivot_table( index='experiment', aggfunc='sum')\n",
    "summary_df['total'] = clean_df.pivot_table( index='experiment', aggfunc='count')\n",
    "summary_df['rate'] = clean_df.pivot_table( index='experiment')\n",
    "summary_df['not aware'] = summary_df['total'] - summary_df['aware']\n",
    "summary_df = summary_df.reindex(['aware', 'not aware', 'total', 'rate'], axis=1)\n",
    "summary_df"
   ]
  },
  {
   "cell_type": "markdown",
   "id": "415a5ba1",
   "metadata": {},
   "source": [
    "The sample sizes of the exposed group and control group are 657 and 586 respectively\n",
    "The number of conversions in the exposed group and control group is 308 and 264 respectively"
   ]
  },
  {
   "cell_type": "markdown",
   "id": "53cb1296",
   "metadata": {},
   "source": [
    "# Formulation of Null and Alternative Hypothesis"
   ]
  },
  {
   "cell_type": "markdown",
   "id": "e1a49a66",
   "metadata": {},
   "source": [
    "Here I will be formulating a null and an alternative hypothesis. The null hypothesis will state that there are no changes in conversion either with the new creative ad or with the dummy ad. The alternative hypothesis is what we wanted to confirm, ie the conversion rate is higher with the new creative ad than with the dummy one."
   ]
  },
  {
   "cell_type": "code",
   "execution_count": 13,
   "id": "91a0a101",
   "metadata": {},
   "outputs": [
    {
     "name": "stdout",
     "output_type": "stream",
     "text": [
      "The observed difference in the conversion rate between the exposed and the control group is 1.83%\n"
     ]
    }
   ],
   "source": [
    "# Sampling distribution under the null\n",
    "\n",
    "obs_diff = exposed.yes.mean() - control.yes.mean()\n",
    "obs_diff_form = '{0:.2f}%'.format(obs_diff*100)\n",
    "print('The observed difference in the conversion rate between the exposed and the control group is {}'.format(obs_diff_form))"
   ]
  },
  {
   "cell_type": "markdown",
   "id": "e3057961",
   "metadata": {},
   "source": [
    "# Probability Distributions"
   ]
  },
  {
   "cell_type": "code",
   "execution_count": 14,
   "id": "d72114cc",
   "metadata": {},
   "outputs": [],
   "source": [
    "exp_rate = summary_df['rate']['exposed']\n",
    "cont_rate = summary_df['rate']['control']\n",
    "exp_aware = summary_df['aware']['exposed']\n",
    "cont_aware = summary_df['aware']['control']\n",
    "exp_total = summary_df['total']['exposed']\n",
    "cont_total = summary_df['total']['control']\n",
    "diff = exp_rate - cont_rate"
   ]
  },
  {
   "cell_type": "code",
   "execution_count": 15,
   "id": "47882b61",
   "metadata": {},
   "outputs": [
    {
     "data": {
      "image/png": "[encoded data removed]",
      "text/plain": [
       "<Figure size 864x432 with 1 Axes>"
      ]
     },
     "metadata": {},
     "output_type": "display_data"
    }
   ],
   "source": [
    "fig, ax = plt.subplots(figsize=(12, 6))\n",
    "\n",
    "xC = np.linspace(cont_aware - 49, cont_aware + 50, 100)\n",
    "yC = scs.binom(cont_total, cont_rate).pmf(xC)\n",
    "ax.bar(xC, yC, alpha=0.5, linestyle='--')\n",
    "xE = np.linspace(exp_aware - 49, exp_aware + 50, 100)\n",
    "yE = scs.binom(exp_total , exp_rate).pmf(xE)\n",
    "ax.bar(xE, yE, alpha=0.5, linestyle='--')\n",
    "plt.xlabel('awareness')\n",
    "plt.ylabel('probability')\n",
    "plt.show()"
   ]
  },
  {
   "cell_type": "code",
   "execution_count": 16,
   "id": "16f68ec5",
   "metadata": {},
   "outputs": [
    {
     "data": {
      "text/html": [
       "<div>\n",
       "<style scoped>\n",
       "    .dataframe tbody tr th:only-of-type {\n",
       "        vertical-align: middle;\n",
       "    }\n",
       "\n",
       "    .dataframe tbody tr th {\n",
       "        vertical-align: top;\n",
       "    }\n",
       "\n",
       "    .dataframe thead th {\n",
       "        text-align: right;\n",
       "    }\n",
       "</style>\n",
       "<table border=\"1\" class=\"dataframe\">\n",
       "  <thead>\n",
       "    <tr style=\"text-align: right;\">\n",
       "      <th></th>\n",
       "      <th>aware</th>\n",
       "    </tr>\n",
       "  </thead>\n",
       "  <tbody>\n",
       "    <tr>\n",
       "      <th>count</th>\n",
       "      <td>1243.000000</td>\n",
       "    </tr>\n",
       "    <tr>\n",
       "      <th>mean</th>\n",
       "      <td>0.460177</td>\n",
       "    </tr>\n",
       "    <tr>\n",
       "      <th>std</th>\n",
       "      <td>0.498612</td>\n",
       "    </tr>\n",
       "    <tr>\n",
       "      <th>min</th>\n",
       "      <td>0.000000</td>\n",
       "    </tr>\n",
       "    <tr>\n",
       "      <th>25%</th>\n",
       "      <td>0.000000</td>\n",
       "    </tr>\n",
       "    <tr>\n",
       "      <th>50%</th>\n",
       "      <td>0.000000</td>\n",
       "    </tr>\n",
       "    <tr>\n",
       "      <th>75%</th>\n",
       "      <td>1.000000</td>\n",
       "    </tr>\n",
       "    <tr>\n",
       "      <th>max</th>\n",
       "      <td>1.000000</td>\n",
       "    </tr>\n",
       "  </tbody>\n",
       "</table>\n",
       "</div>"
      ],
      "text/plain": [
       "             aware\n",
       "count  1243.000000\n",
       "mean      0.460177\n",
       "std       0.498612\n",
       "min       0.000000\n",
       "25%       0.000000\n",
       "50%       0.000000\n",
       "75%       1.000000\n",
       "max       1.000000"
      ]
     },
     "execution_count": 16,
     "metadata": {},
     "output_type": "execute_result"
    }
   ],
   "source": [
    "clean_df.describe()"
   ]
  },
  {
   "cell_type": "code",
   "execution_count": 17,
   "id": "6110b5e2",
   "metadata": {},
   "outputs": [],
   "source": [
    "# standard error of the mean\n",
    "SE_C = np.sqrt(cont_rate * (1-cont_rate)) / np.sqrt(cont_total)\n",
    "SE_E = np.sqrt(exp_rate * (1-exp_rate)) / np.sqrt(exp_total)"
   ]
  },
  {
   "cell_type": "code",
   "execution_count": 18,
   "id": "78dbdca6",
   "metadata": {},
   "outputs": [
    {
     "data": {
      "image/png": "[encoded data removed]",
      "text/plain": [
       "<Figure size 720x360 with 1 Axes>"
      ]
     },
     "metadata": {},
     "output_type": "display_data"
    }
   ],
   "source": [
    "fig, ax = plt.subplots(figsize=(10, 5))\n",
    "x = np.linspace(.35, .6, 1000)\n",
    "\n",
    "yC = scs.norm(cont_rate, SE_C).pdf(x)\n",
    "ax.plot(x, yC, label='Control')\n",
    "ax.axvline(x=cont_rate, c='red', alpha=0.5, linestyle='--')\n",
    "\n",
    "yE = scs.norm(exp_rate, SE_E).pdf(x)\n",
    "ax.plot(x, yE, label='Exposed')\n",
    "ax.axvline(x=exp_rate, c='blue', alpha=0.5, linestyle='--')\n",
    "\n",
    "plt.legend()\n",
    "plt.xlabel('Awareness Proportion')\n",
    "plt.ylabel('PDF')\n",
    "plt.show()"
   ]
  },
  {
   "cell_type": "code",
   "execution_count": 19,
   "id": "135f0ca9",
   "metadata": {},
   "outputs": [
    {
     "data": {
      "text/plain": [
       "(0.02055339057798332, 0.019468837373132736)"
      ]
     },
     "execution_count": 19,
     "metadata": {},
     "output_type": "execute_result"
    }
   ],
   "source": [
    "std_cont = np.sqrt(cont_rate * (1 - cont_rate) / cont_total)\n",
    "std_exp = np.sqrt(exp_rate * (1 - exp_rate) / exp_total)\n",
    "std_cont, std_exp"
   ]
  },
  {
   "cell_type": "code",
   "execution_count": 20,
   "id": "295f45d8",
   "metadata": {},
   "outputs": [
    {
     "data": {
      "image/png": "[encoded data removed]",
      "text/plain": [
       "<Figure size 864x432 with 1 Axes>"
      ]
     },
     "metadata": {},
     "output_type": "display_data"
    }
   ],
   "source": [
    "# Null hypothesis and Alternative hypothesis\n",
    "abplot(cont_total, exp_total, cont_rate, diff)"
   ]
  },
  {
   "cell_type": "code",
   "execution_count": 21,
   "id": "d1718e15",
   "metadata": {},
   "outputs": [
    {
     "data": {
      "text/plain": [
       "(0.6458981015684259, 0.2591726745827285)"
      ]
     },
     "execution_count": 21,
     "metadata": {},
     "output_type": "execute_result"
    }
   ],
   "source": [
    "z_score = (diff) / np.sqrt(std_cont**2 + std_exp**2)\n",
    "p_value = scs.norm().sf(z_score)\n",
    "z_score, p_value"
   ]
  },
  {
   "cell_type": "markdown",
   "id": "cae6d3e3",
   "metadata": {},
   "source": [
    "We can see that the p-value is much greater than the significance level. So we can't be confident about the significance of the lift."
   ]
  },
  {
   "cell_type": "code",
   "execution_count": 22,
   "id": "83fe11cc",
   "metadata": {},
   "outputs": [
    {
     "data": {
      "image/png": "[encoded data removed]",
      "text/plain": [
       "<Figure size 864x432 with 1 Axes>"
      ]
     },
     "metadata": {},
     "output_type": "display_data"
    }
   ],
   "source": [
    "abplot(cont_total, exp_total, cont_rate, diff, show_power=True, show_beta=True, show_alpha=True, show_p_value=True)"
   ]
  },
  {
   "cell_type": "markdown",
   "id": "0c1cdea5",
   "metadata": {},
   "source": [
    "As we can see the power is around 9.4%, which means there is a high chance of making type-II error."
   ]
  },
  {
   "cell_type": "code",
   "execution_count": null,
   "id": "a02be36c",
   "metadata": {},
   "outputs": [],
   "source": []
  }
 ],
 "metadata": {
  "kernelspec": {
   "display_name": "Python 3 (ipykernel)",
   "language": "python",
   "name": "python3"
  },
  "language_info": {
   "codemirror_mode": {
    "name": "ipython",
    "version": 3
   },
   "file_extension": ".py",
   "mimetype": "text/x-python",
   "name": "python",
   "nbconvert_exporter": "python",
   "pygments_lexer": "ipython3",
   "version": "3.9.7"
  }
 },
 "nbformat": 4,
 "nbformat_minor": 5
}

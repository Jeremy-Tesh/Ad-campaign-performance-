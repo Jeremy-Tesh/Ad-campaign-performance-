{
 "cells": [
  {
   "cell_type": "code",
   "execution_count": 1,
   "metadata": {},
   "outputs": [],
   "source": [
    "import pandas as pd\n",
    "import matplotlib.pyplot as plt\n",
    "import seaborn as sns\n",
    "import numpy as np\n",
    "from sklearn import preprocessing\n",
    "from sklearn import tree\n",
    "import pydotplus\n",
    "from sklearn.tree import DecisionTreeClassifier\n",
    "from sklearn.metrics import accuracy_score, confusion_matrix\n",
    "from sklearn.model_selection import LeaveOneOut\n",
    "from sklearn.model_selection import cross_val_score\n",
    "from xgboost import XGBClassifier\n",
    "from sklearn.ensemble import RandomForestClassifier\n",
    "from sklearn.linear_model import LogisticRegression\n",
    "from sklearn.model_selection import train_test_split\n",
    "sys.path.insert(0, \"../scripts/\")\n",
    "from spliting import SplitData\n"
   ]
  },
  {
   "cell_type": "code",
   "execution_count": 2,
   "metadata": {},
   "outputs": [
    {
     "data": {
      "text/html": [
       "<div>\n",
       "<style scoped>\n",
       "    .dataframe tbody tr th:only-of-type {\n",
       "        vertical-align: middle;\n",
       "    }\n",
       "\n",
       "    .dataframe tbody tr th {\n",
       "        vertical-align: top;\n",
       "    }\n",
       "\n",
       "    .dataframe thead th {\n",
       "        text-align: right;\n",
       "    }\n",
       "</style>\n",
       "<table border=\"1\" class=\"dataframe\">\n",
       "  <thead>\n",
       "    <tr style=\"text-align: right;\">\n",
       "      <th></th>\n",
       "      <th>auction_id</th>\n",
       "      <th>experiment</th>\n",
       "      <th>date</th>\n",
       "      <th>hour</th>\n",
       "      <th>device_make</th>\n",
       "      <th>platform_os</th>\n",
       "      <th>browser</th>\n",
       "      <th>user_response</th>\n",
       "    </tr>\n",
       "  </thead>\n",
       "  <tbody>\n",
       "    <tr>\n",
       "      <th>1199</th>\n",
       "      <td>f1b2ff1e-f781-446e-a8c4-c53daea7e9fb</td>\n",
       "      <td>exposed</td>\n",
       "      <td>2020-07-06</td>\n",
       "      <td>5</td>\n",
       "      <td>VTR-L09</td>\n",
       "      <td>6</td>\n",
       "      <td>Facebook</td>\n",
       "      <td>0</td>\n",
       "    </tr>\n",
       "    <tr>\n",
       "      <th>1223</th>\n",
       "      <td>f9c4603c-5ccf-4470-8e63-d1edc6fe87b2</td>\n",
       "      <td>control</td>\n",
       "      <td>2020-07-07</td>\n",
       "      <td>1</td>\n",
       "      <td>Generic Smartphone</td>\n",
       "      <td>6</td>\n",
       "      <td>Chrome Mobile</td>\n",
       "      <td>0</td>\n",
       "    </tr>\n",
       "    <tr>\n",
       "      <th>147</th>\n",
       "      <td>4f071ba2-33aa-4fa2-b539-97d9bacc322c</td>\n",
       "      <td>control</td>\n",
       "      <td>2020-07-08</td>\n",
       "      <td>21</td>\n",
       "      <td>Samsung SM-A405FN</td>\n",
       "      <td>6</td>\n",
       "      <td>Facebook</td>\n",
       "      <td>1</td>\n",
       "    </tr>\n",
       "    <tr>\n",
       "      <th>614</th>\n",
       "      <td>1134407e-af87-434f-ac7c-299dff13dae2</td>\n",
       "      <td>control</td>\n",
       "      <td>2020-07-04</td>\n",
       "      <td>21</td>\n",
       "      <td>Samsung SM-A705FN</td>\n",
       "      <td>6</td>\n",
       "      <td>Facebook</td>\n",
       "      <td>0</td>\n",
       "    </tr>\n",
       "    <tr>\n",
       "      <th>1048</th>\n",
       "      <td>b501c220-43b8-42a5-a507-9db9bd659e96</td>\n",
       "      <td>control</td>\n",
       "      <td>2020-07-03</td>\n",
       "      <td>15</td>\n",
       "      <td>Generic Smartphone</td>\n",
       "      <td>6</td>\n",
       "      <td>Chrome Mobile</td>\n",
       "      <td>0</td>\n",
       "    </tr>\n",
       "    <tr>\n",
       "      <th>634</th>\n",
       "      <td>19548e79-bf25-4570-b8ca-54e8e28590f0</td>\n",
       "      <td>exposed</td>\n",
       "      <td>2020-07-03</td>\n",
       "      <td>1</td>\n",
       "      <td>Generic Smartphone</td>\n",
       "      <td>6</td>\n",
       "      <td>Chrome Mobile</td>\n",
       "      <td>0</td>\n",
       "    </tr>\n",
       "    <tr>\n",
       "      <th>297</th>\n",
       "      <td>9298f36a-b3b7-472e-923a-1cc1dbb919e7</td>\n",
       "      <td>control</td>\n",
       "      <td>2020-07-03</td>\n",
       "      <td>15</td>\n",
       "      <td>Generic Smartphone</td>\n",
       "      <td>6</td>\n",
       "      <td>Chrome Mobile</td>\n",
       "      <td>1</td>\n",
       "    </tr>\n",
       "    <tr>\n",
       "      <th>1076</th>\n",
       "      <td>bfaa07e5-99ed-4975-b941-057d91629a61</td>\n",
       "      <td>exposed</td>\n",
       "      <td>2020-07-08</td>\n",
       "      <td>16</td>\n",
       "      <td>Samsung SM-A202F</td>\n",
       "      <td>6</td>\n",
       "      <td>Chrome Mobile WebView</td>\n",
       "      <td>0</td>\n",
       "    </tr>\n",
       "    <tr>\n",
       "      <th>1096</th>\n",
       "      <td>c8debff5-48be-4a6e-9a6b-eab3d676bdb8</td>\n",
       "      <td>control</td>\n",
       "      <td>2020-07-05</td>\n",
       "      <td>10</td>\n",
       "      <td>Samsung SM-G960F</td>\n",
       "      <td>6</td>\n",
       "      <td>Chrome Mobile WebView</td>\n",
       "      <td>0</td>\n",
       "    </tr>\n",
       "    <tr>\n",
       "      <th>497</th>\n",
       "      <td>e282a098-3437-4bf3-9819-f547f9ad9731</td>\n",
       "      <td>control</td>\n",
       "      <td>2020-07-08</td>\n",
       "      <td>21</td>\n",
       "      <td>Generic Smartphone</td>\n",
       "      <td>6</td>\n",
       "      <td>Chrome Mobile</td>\n",
       "      <td>1</td>\n",
       "    </tr>\n",
       "  </tbody>\n",
       "</table>\n",
       "</div>"
      ],
      "text/plain": [
       "                                auction_id experiment        date  hour  \\\n",
       "1199  f1b2ff1e-f781-446e-a8c4-c53daea7e9fb    exposed  2020-07-06     5   \n",
       "1223  f9c4603c-5ccf-4470-8e63-d1edc6fe87b2    control  2020-07-07     1   \n",
       "147   4f071ba2-33aa-4fa2-b539-97d9bacc322c    control  2020-07-08    21   \n",
       "614   1134407e-af87-434f-ac7c-299dff13dae2    control  2020-07-04    21   \n",
       "1048  b501c220-43b8-42a5-a507-9db9bd659e96    control  2020-07-03    15   \n",
       "634   19548e79-bf25-4570-b8ca-54e8e28590f0    exposed  2020-07-03     1   \n",
       "297   9298f36a-b3b7-472e-923a-1cc1dbb919e7    control  2020-07-03    15   \n",
       "1076  bfaa07e5-99ed-4975-b941-057d91629a61    exposed  2020-07-08    16   \n",
       "1096  c8debff5-48be-4a6e-9a6b-eab3d676bdb8    control  2020-07-05    10   \n",
       "497   e282a098-3437-4bf3-9819-f547f9ad9731    control  2020-07-08    21   \n",
       "\n",
       "             device_make  platform_os                browser  user_response  \n",
       "1199             VTR-L09            6               Facebook              0  \n",
       "1223  Generic Smartphone            6          Chrome Mobile              0  \n",
       "147    Samsung SM-A405FN            6               Facebook              1  \n",
       "614    Samsung SM-A705FN            6               Facebook              0  \n",
       "1048  Generic Smartphone            6          Chrome Mobile              0  \n",
       "634   Generic Smartphone            6          Chrome Mobile              0  \n",
       "297   Generic Smartphone            6          Chrome Mobile              1  \n",
       "1076    Samsung SM-A202F            6  Chrome Mobile WebView              0  \n",
       "1096    Samsung SM-G960F            6  Chrome Mobile WebView              0  \n",
       "497   Generic Smartphone            6          Chrome Mobile              1  "
      ]
     },
     "execution_count": 2,
     "metadata": {},
     "output_type": "execute_result"
    }
   ],
   "source": [
    "df =pd.read_csv('../data/cleaned_data.csv')\n",
    "df.sample(10)"
   ]
  },
  {
   "cell_type": "code",
   "execution_count": 10,
   "metadata": {},
   "outputs": [
    {
     "data": {
      "text/html": [
       "<div>\n",
       "<style scoped>\n",
       "    .dataframe tbody tr th:only-of-type {\n",
       "        vertical-align: middle;\n",
       "    }\n",
       "\n",
       "    .dataframe tbody tr th {\n",
       "        vertical-align: top;\n",
       "    }\n",
       "\n",
       "    .dataframe thead th {\n",
       "        text-align: right;\n",
       "    }\n",
       "</style>\n",
       "<table border=\"1\" class=\"dataframe\">\n",
       "  <thead>\n",
       "    <tr style=\"text-align: right;\">\n",
       "      <th></th>\n",
       "      <th>auction_id</th>\n",
       "      <th>experiment</th>\n",
       "      <th>date</th>\n",
       "      <th>hour</th>\n",
       "      <th>device_make</th>\n",
       "      <th>browser</th>\n",
       "      <th>user_response</th>\n",
       "    </tr>\n",
       "  </thead>\n",
       "  <tbody>\n",
       "    <tr>\n",
       "      <th>0</th>\n",
       "      <td>008aafdf-deef-4482-8fec-d98e3da054da</td>\n",
       "      <td>exposed</td>\n",
       "      <td>2020-07-04</td>\n",
       "      <td>16</td>\n",
       "      <td>Generic Smartphone</td>\n",
       "      <td>Chrome Mobile</td>\n",
       "      <td>1</td>\n",
       "    </tr>\n",
       "    <tr>\n",
       "      <th>1</th>\n",
       "      <td>00b6fadb-10bd-49e3-a778-290da82f7a8d</td>\n",
       "      <td>control</td>\n",
       "      <td>2020-07-08</td>\n",
       "      <td>4</td>\n",
       "      <td>Samsung SM-A202F</td>\n",
       "      <td>Facebook</td>\n",
       "      <td>1</td>\n",
       "    </tr>\n",
       "    <tr>\n",
       "      <th>2</th>\n",
       "      <td>018af862-486e-4da1-a85b-71872120e57c</td>\n",
       "      <td>control</td>\n",
       "      <td>2020-07-03</td>\n",
       "      <td>15</td>\n",
       "      <td>Generic Smartphone</td>\n",
       "      <td>Chrome Mobile</td>\n",
       "      <td>1</td>\n",
       "    </tr>\n",
       "    <tr>\n",
       "      <th>3</th>\n",
       "      <td>023ec7b5-cb8f-49a5-995f-e0d7c2f702e5</td>\n",
       "      <td>exposed</td>\n",
       "      <td>2020-07-09</td>\n",
       "      <td>13</td>\n",
       "      <td>Samsung SM-G935F</td>\n",
       "      <td>Facebook</td>\n",
       "      <td>1</td>\n",
       "    </tr>\n",
       "    <tr>\n",
       "      <th>4</th>\n",
       "      <td>02efdb70-8596-4f3f-b0b2-b91e194f61f7</td>\n",
       "      <td>exposed</td>\n",
       "      <td>2020-07-05</td>\n",
       "      <td>6</td>\n",
       "      <td>Generic Smartphone</td>\n",
       "      <td>Chrome Mobile</td>\n",
       "      <td>1</td>\n",
       "    </tr>\n",
       "    <tr>\n",
       "      <th>5</th>\n",
       "      <td>0332a7f7-0336-4d48-96ad-75da00d916c0</td>\n",
       "      <td>control</td>\n",
       "      <td>2020-07-04</td>\n",
       "      <td>16</td>\n",
       "      <td>Generic Smartphone</td>\n",
       "      <td>Chrome Mobile</td>\n",
       "      <td>1</td>\n",
       "    </tr>\n",
       "    <tr>\n",
       "      <th>6</th>\n",
       "      <td>03948b84-b5b1-4f26-81fc-e953218aef1a</td>\n",
       "      <td>control</td>\n",
       "      <td>2020-07-09</td>\n",
       "      <td>20</td>\n",
       "      <td>Samsung SM-G930F</td>\n",
       "      <td>Facebook</td>\n",
       "      <td>1</td>\n",
       "    </tr>\n",
       "    <tr>\n",
       "      <th>7</th>\n",
       "      <td>03ee1780-1fa3-4bec-926c-d543a81a6653</td>\n",
       "      <td>exposed</td>\n",
       "      <td>2020-07-04</td>\n",
       "      <td>11</td>\n",
       "      <td>Samsung SM-G981B</td>\n",
       "      <td>Chrome Mobile WebView</td>\n",
       "      <td>1</td>\n",
       "    </tr>\n",
       "    <tr>\n",
       "      <th>8</th>\n",
       "      <td>046644f4-b30c-48f9-b069-f804a97b77d9</td>\n",
       "      <td>exposed</td>\n",
       "      <td>2020-07-05</td>\n",
       "      <td>2</td>\n",
       "      <td>Generic Smartphone</td>\n",
       "      <td>Chrome Mobile WebView</td>\n",
       "      <td>1</td>\n",
       "    </tr>\n",
       "    <tr>\n",
       "      <th>9</th>\n",
       "      <td>04b69bd8-4849-4489-adcf-08b96a265c40</td>\n",
       "      <td>control</td>\n",
       "      <td>2020-07-07</td>\n",
       "      <td>15</td>\n",
       "      <td>Generic Smartphone</td>\n",
       "      <td>Chrome Mobile</td>\n",
       "      <td>1</td>\n",
       "    </tr>\n",
       "  </tbody>\n",
       "</table>\n",
       "</div>"
      ],
      "text/plain": [
       "                             auction_id experiment        date  hour  \\\n",
       "0  008aafdf-deef-4482-8fec-d98e3da054da    exposed  2020-07-04    16   \n",
       "1  00b6fadb-10bd-49e3-a778-290da82f7a8d    control  2020-07-08     4   \n",
       "2  018af862-486e-4da1-a85b-71872120e57c    control  2020-07-03    15   \n",
       "3  023ec7b5-cb8f-49a5-995f-e0d7c2f702e5    exposed  2020-07-09    13   \n",
       "4  02efdb70-8596-4f3f-b0b2-b91e194f61f7    exposed  2020-07-05     6   \n",
       "5  0332a7f7-0336-4d48-96ad-75da00d916c0    control  2020-07-04    16   \n",
       "6  03948b84-b5b1-4f26-81fc-e953218aef1a    control  2020-07-09    20   \n",
       "7  03ee1780-1fa3-4bec-926c-d543a81a6653    exposed  2020-07-04    11   \n",
       "8  046644f4-b30c-48f9-b069-f804a97b77d9    exposed  2020-07-05     2   \n",
       "9  04b69bd8-4849-4489-adcf-08b96a265c40    control  2020-07-07    15   \n",
       "\n",
       "          device_make                browser  user_response  \n",
       "0  Generic Smartphone          Chrome Mobile              1  \n",
       "1    Samsung SM-A202F               Facebook              1  \n",
       "2  Generic Smartphone          Chrome Mobile              1  \n",
       "3    Samsung SM-G935F               Facebook              1  \n",
       "4  Generic Smartphone          Chrome Mobile              1  \n",
       "5  Generic Smartphone          Chrome Mobile              1  \n",
       "6    Samsung SM-G930F               Facebook              1  \n",
       "7    Samsung SM-G981B  Chrome Mobile WebView              1  \n",
       "8  Generic Smartphone  Chrome Mobile WebView              1  \n",
       "9  Generic Smartphone          Chrome Mobile              1  "
      ]
     },
     "execution_count": 10,
     "metadata": {},
     "output_type": "execute_result"
    }
   ],
   "source": [
    "browser_df=df.drop(['platform_os'],axis=1)\n",
    "browser_df.head(10)\n"
   ]
  },
  {
   "cell_type": "code",
   "execution_count": 11,
   "metadata": {},
   "outputs": [],
   "source": [
    "browser_df.to_csv('../data/browser_clean_data.csv')"
   ]
  },
  {
   "cell_type": "code",
   "execution_count": 12,
   "metadata": {},
   "outputs": [
    {
     "data": {
      "text/html": [
       "<div>\n",
       "<style scoped>\n",
       "    .dataframe tbody tr th:only-of-type {\n",
       "        vertical-align: middle;\n",
       "    }\n",
       "\n",
       "    .dataframe tbody tr th {\n",
       "        vertical-align: top;\n",
       "    }\n",
       "\n",
       "    .dataframe thead th {\n",
       "        text-align: right;\n",
       "    }\n",
       "</style>\n",
       "<table border=\"1\" class=\"dataframe\">\n",
       "  <thead>\n",
       "    <tr style=\"text-align: right;\">\n",
       "      <th></th>\n",
       "      <th>auction_id</th>\n",
       "      <th>experiment</th>\n",
       "      <th>date</th>\n",
       "      <th>hour</th>\n",
       "      <th>device_make</th>\n",
       "      <th>platform_os</th>\n",
       "      <th>user_response</th>\n",
       "    </tr>\n",
       "  </thead>\n",
       "  <tbody>\n",
       "    <tr>\n",
       "      <th>23</th>\n",
       "      <td>0aaf0e53-0aef-48e1-86b8-77a751b6ad2b</td>\n",
       "      <td>control</td>\n",
       "      <td>2020-07-08</td>\n",
       "      <td>14</td>\n",
       "      <td>Generic Smartphone</td>\n",
       "      <td>6</td>\n",
       "      <td>1</td>\n",
       "    </tr>\n",
       "    <tr>\n",
       "      <th>979</th>\n",
       "      <td>9b7a2497-f2f3-4cfd-bf1b-bf533fa39f4f</td>\n",
       "      <td>exposed</td>\n",
       "      <td>2020-07-10</td>\n",
       "      <td>2</td>\n",
       "      <td>Generic Smartphone</td>\n",
       "      <td>6</td>\n",
       "      <td>0</td>\n",
       "    </tr>\n",
       "    <tr>\n",
       "      <th>416</th>\n",
       "      <td>c03a506f-92e4-41e1-8859-841d21f18349</td>\n",
       "      <td>exposed</td>\n",
       "      <td>2020-07-04</td>\n",
       "      <td>6</td>\n",
       "      <td>Samsung SM-G965F</td>\n",
       "      <td>6</td>\n",
       "      <td>1</td>\n",
       "    </tr>\n",
       "    <tr>\n",
       "      <th>789</th>\n",
       "      <td>577d8982-42dc-401d-8fc3-56e394a96782</td>\n",
       "      <td>exposed</td>\n",
       "      <td>2020-07-09</td>\n",
       "      <td>16</td>\n",
       "      <td>Generic Smartphone</td>\n",
       "      <td>6</td>\n",
       "      <td>0</td>\n",
       "    </tr>\n",
       "    <tr>\n",
       "      <th>889</th>\n",
       "      <td>7d6e7872-c491-4fa5-9436-87e13c3e32dc</td>\n",
       "      <td>exposed</td>\n",
       "      <td>2020-07-08</td>\n",
       "      <td>21</td>\n",
       "      <td>Samsung SM-G950F</td>\n",
       "      <td>6</td>\n",
       "      <td>0</td>\n",
       "    </tr>\n",
       "    <tr>\n",
       "      <th>754</th>\n",
       "      <td>4e013f88-ee69-49b8-955d-c661d491a450</td>\n",
       "      <td>exposed</td>\n",
       "      <td>2020-07-07</td>\n",
       "      <td>17</td>\n",
       "      <td>Samsung SM-G980F</td>\n",
       "      <td>6</td>\n",
       "      <td>0</td>\n",
       "    </tr>\n",
       "    <tr>\n",
       "      <th>369</th>\n",
       "      <td>ad5c63c0-72b0-404b-8a50-501f8246be93</td>\n",
       "      <td>exposed</td>\n",
       "      <td>2020-07-09</td>\n",
       "      <td>11</td>\n",
       "      <td>Generic Smartphone</td>\n",
       "      <td>6</td>\n",
       "      <td>1</td>\n",
       "    </tr>\n",
       "    <tr>\n",
       "      <th>987</th>\n",
       "      <td>9ea96c35-6b58-477a-bcca-392be377e13b</td>\n",
       "      <td>control</td>\n",
       "      <td>2020-07-10</td>\n",
       "      <td>3</td>\n",
       "      <td>VFD 820</td>\n",
       "      <td>6</td>\n",
       "      <td>0</td>\n",
       "    </tr>\n",
       "    <tr>\n",
       "      <th>350</th>\n",
       "      <td>a6d7e9ac-1bf2-4ae3-b7c5-92b26ab22c27</td>\n",
       "      <td>exposed</td>\n",
       "      <td>2020-07-04</td>\n",
       "      <td>13</td>\n",
       "      <td>F3311</td>\n",
       "      <td>6</td>\n",
       "      <td>1</td>\n",
       "    </tr>\n",
       "    <tr>\n",
       "      <th>494</th>\n",
       "      <td>e21bd15a-bd75-44d7-accc-20b3580f6055</td>\n",
       "      <td>control</td>\n",
       "      <td>2020-07-04</td>\n",
       "      <td>16</td>\n",
       "      <td>Generic Smartphone</td>\n",
       "      <td>6</td>\n",
       "      <td>1</td>\n",
       "    </tr>\n",
       "  </tbody>\n",
       "</table>\n",
       "</div>"
      ],
      "text/plain": [
       "                               auction_id experiment        date  hour  \\\n",
       "23   0aaf0e53-0aef-48e1-86b8-77a751b6ad2b    control  2020-07-08    14   \n",
       "979  9b7a2497-f2f3-4cfd-bf1b-bf533fa39f4f    exposed  2020-07-10     2   \n",
       "416  c03a506f-92e4-41e1-8859-841d21f18349    exposed  2020-07-04     6   \n",
       "789  577d8982-42dc-401d-8fc3-56e394a96782    exposed  2020-07-09    16   \n",
       "889  7d6e7872-c491-4fa5-9436-87e13c3e32dc    exposed  2020-07-08    21   \n",
       "754  4e013f88-ee69-49b8-955d-c661d491a450    exposed  2020-07-07    17   \n",
       "369  ad5c63c0-72b0-404b-8a50-501f8246be93    exposed  2020-07-09    11   \n",
       "987  9ea96c35-6b58-477a-bcca-392be377e13b    control  2020-07-10     3   \n",
       "350  a6d7e9ac-1bf2-4ae3-b7c5-92b26ab22c27    exposed  2020-07-04    13   \n",
       "494  e21bd15a-bd75-44d7-accc-20b3580f6055    control  2020-07-04    16   \n",
       "\n",
       "            device_make  platform_os  user_response  \n",
       "23   Generic Smartphone            6              1  \n",
       "979  Generic Smartphone            6              0  \n",
       "416    Samsung SM-G965F            6              1  \n",
       "789  Generic Smartphone            6              0  \n",
       "889    Samsung SM-G950F            6              0  \n",
       "754    Samsung SM-G980F            6              0  \n",
       "369  Generic Smartphone            6              1  \n",
       "987             VFD 820            6              0  \n",
       "350               F3311            6              1  \n",
       "494  Generic Smartphone            6              1  "
      ]
     },
     "execution_count": 12,
     "metadata": {},
     "output_type": "execute_result"
    }
   ],
   "source": [
    "platform_df=df.drop(['browser'],axis=1)\n",
    "platform_df.sample(10)"
   ]
  },
  {
   "cell_type": "code",
   "execution_count": 13,
   "metadata": {},
   "outputs": [],
   "source": [
    "platform_df.to_csv('../data/platform_clean_data.csv')"
   ]
  },
  {
   "cell_type": "markdown",
   "metadata": {},
   "source": [
    "# Accessing DVC version"
   ]
  },
  {
   "cell_type": "code",
   "execution_count": 3,
   "metadata": {},
   "outputs": [],
   "source": [
    "import dvc.api"
   ]
  },
  {
   "cell_type": "markdown",
   "metadata": {},
   "source": [
    "<h3>Accessing Browser Data</h3>"
   ]
  },
  {
   "cell_type": "code",
   "execution_count": 4,
   "metadata": {},
   "outputs": [],
   "source": [
    "with dvc.api.open(\n",
    "    'data/browser_clean_data.csv',\n",
    "    repo=\"https://github.com/abu-bakarr/10_Academy_Week2_Group\",\n",
    "    \n",
    ") as f:\n",
    "    browser_df = pd.read_csv(f)\n",
    "    \n",
    "browser_df.drop(['auction_id','Unnamed: 0'],axis=1,inplace=True)\n"
   ]
  },
  {
   "cell_type": "code",
   "execution_count": 5,
   "metadata": {},
   "outputs": [],
   "source": [
    "with dvc.api.open(\n",
    "    \"data/platform_clean_data.csv\",\n",
    "    repo=\"https://github.com/abu-bakarr/10_Academy_Week2_Group\",\n",
    ") as fd:\n",
    "    platform_df = pd.read_csv(fd)\n",
    "    \n",
    "platform_df.drop([\"auction_id\", \"Unnamed: 0\"], axis=1, inplace=True)\n"
   ]
  },
  {
   "cell_type": "code",
   "execution_count": 18,
   "metadata": {},
   "outputs": [
    {
     "data": {
      "text/html": [
       "<div>\n",
       "<style scoped>\n",
       "    .dataframe tbody tr th:only-of-type {\n",
       "        vertical-align: middle;\n",
       "    }\n",
       "\n",
       "    .dataframe tbody tr th {\n",
       "        vertical-align: top;\n",
       "    }\n",
       "\n",
       "    .dataframe thead th {\n",
       "        text-align: right;\n",
       "    }\n",
       "</style>\n",
       "<table border=\"1\" class=\"dataframe\">\n",
       "  <thead>\n",
       "    <tr style=\"text-align: right;\">\n",
       "      <th></th>\n",
       "      <th>experiment</th>\n",
       "      <th>date</th>\n",
       "      <th>hour</th>\n",
       "      <th>device_make</th>\n",
       "      <th>browser</th>\n",
       "      <th>user_response</th>\n",
       "    </tr>\n",
       "  </thead>\n",
       "  <tbody>\n",
       "    <tr>\n",
       "      <th>460</th>\n",
       "      <td>exposed</td>\n",
       "      <td>2020-07-09</td>\n",
       "      <td>18</td>\n",
       "      <td>Generic Smartphone</td>\n",
       "      <td>Chrome Mobile</td>\n",
       "      <td>1</td>\n",
       "    </tr>\n",
       "    <tr>\n",
       "      <th>648</th>\n",
       "      <td>exposed</td>\n",
       "      <td>2020-07-08</td>\n",
       "      <td>5</td>\n",
       "      <td>ELE-L29</td>\n",
       "      <td>Facebook</td>\n",
       "      <td>0</td>\n",
       "    </tr>\n",
       "    <tr>\n",
       "      <th>84</th>\n",
       "      <td>exposed</td>\n",
       "      <td>2020-07-09</td>\n",
       "      <td>22</td>\n",
       "      <td>Generic Smartphone</td>\n",
       "      <td>Chrome Mobile</td>\n",
       "      <td>1</td>\n",
       "    </tr>\n",
       "  </tbody>\n",
       "</table>\n",
       "</div>"
      ],
      "text/plain": [
       "    experiment        date  hour         device_make        browser  \\\n",
       "460    exposed  2020-07-09    18  Generic Smartphone  Chrome Mobile   \n",
       "648    exposed  2020-07-08     5             ELE-L29       Facebook   \n",
       "84     exposed  2020-07-09    22  Generic Smartphone  Chrome Mobile   \n",
       "\n",
       "     user_response  \n",
       "460              1  \n",
       "648              0  \n",
       "84               1  "
      ]
     },
     "execution_count": 18,
     "metadata": {},
     "output_type": "execute_result"
    }
   ],
   "source": [
    "browser_df.sample(3)"
   ]
  },
  {
   "cell_type": "code",
   "execution_count": 6,
   "metadata": {},
   "outputs": [],
   "source": [
    "def encode_labels(df):\n",
    "    df['experiment'].replace(['control'],0,inplace=True)\n",
    "    df[\"experiment\"].replace([\"exposed\"], 1, inplace=True)\n",
    "    df[\"date\"]=preprocessing.LabelEncoder().fit_transform(df[\"date\"])\n",
    "    df[\"experiment\"]=preprocessing.LabelEncoder().fit_transform(df[\"experiment\"])\n",
    "    df[\"hour\"]=preprocessing.LabelEncoder().fit_transform(df[\"hour\"])\n",
    "    df[\"device_make\"]=preprocessing.LabelEncoder().fit_transform(df[\"device_make\"])\n",
    "    \n",
    "    return df\n",
    "\n",
    "def encode_browser_labels(df):\n",
    "    b_df=encode_labels(df)\n",
    "    b_df[\"browser\"]=preprocessing.LabelEncoder().fit_transform(df[\"browser\"])\n",
    "    return b_df\n",
    "    \n",
    "def encode_platform_labels(df):\n",
    "    p_df=encode_labels(df)\n",
    "    p_df[\"platform_os\"]=preprocessing.LabelEncoder().fit_transform(df[\"platform_os\"])\n",
    "    return p_df\n",
    "    \n"
   ]
  },
  {
   "cell_type": "code",
   "execution_count": 7,
   "metadata": {},
   "outputs": [
    {
     "data": {
      "text/html": [
       "<div>\n",
       "<style scoped>\n",
       "    .dataframe tbody tr th:only-of-type {\n",
       "        vertical-align: middle;\n",
       "    }\n",
       "\n",
       "    .dataframe tbody tr th {\n",
       "        vertical-align: top;\n",
       "    }\n",
       "\n",
       "    .dataframe thead th {\n",
       "        text-align: right;\n",
       "    }\n",
       "</style>\n",
       "<table border=\"1\" class=\"dataframe\">\n",
       "  <thead>\n",
       "    <tr style=\"text-align: right;\">\n",
       "      <th></th>\n",
       "      <th>experiment</th>\n",
       "      <th>date</th>\n",
       "      <th>hour</th>\n",
       "      <th>device_make</th>\n",
       "      <th>browser</th>\n",
       "      <th>user_response</th>\n",
       "    </tr>\n",
       "  </thead>\n",
       "  <tbody>\n",
       "    <tr>\n",
       "      <th>574</th>\n",
       "      <td>0</td>\n",
       "      <td>0</td>\n",
       "      <td>15</td>\n",
       "      <td>13</td>\n",
       "      <td>1</td>\n",
       "      <td>0</td>\n",
       "    </tr>\n",
       "    <tr>\n",
       "      <th>342</th>\n",
       "      <td>0</td>\n",
       "      <td>3</td>\n",
       "      <td>7</td>\n",
       "      <td>27</td>\n",
       "      <td>2</td>\n",
       "      <td>1</td>\n",
       "    </tr>\n",
       "    <tr>\n",
       "      <th>570</th>\n",
       "      <td>1</td>\n",
       "      <td>2</td>\n",
       "      <td>21</td>\n",
       "      <td>13</td>\n",
       "      <td>1</td>\n",
       "      <td>1</td>\n",
       "    </tr>\n",
       "  </tbody>\n",
       "</table>\n",
       "</div>"
      ],
      "text/plain": [
       "     experiment  date  hour  device_make  browser  user_response\n",
       "574           0     0    15           13        1              0\n",
       "342           0     3     7           27        2              1\n",
       "570           1     2    21           13        1              1"
      ]
     },
     "execution_count": 7,
     "metadata": {},
     "output_type": "execute_result"
    }
   ],
   "source": [
    "encoded_browser_df=encode_browser_labels(browser_df)\n",
    "encoded_browser_df.sample(3)"
   ]
  },
  {
   "cell_type": "code",
   "execution_count": 12,
   "metadata": {},
   "outputs": [
    {
     "data": {
      "text/html": [
       "<div>\n",
       "<style scoped>\n",
       "    .dataframe tbody tr th:only-of-type {\n",
       "        vertical-align: middle;\n",
       "    }\n",
       "\n",
       "    .dataframe tbody tr th {\n",
       "        vertical-align: top;\n",
       "    }\n",
       "\n",
       "    .dataframe thead th {\n",
       "        text-align: right;\n",
       "    }\n",
       "</style>\n",
       "<table border=\"1\" class=\"dataframe\">\n",
       "  <thead>\n",
       "    <tr style=\"text-align: right;\">\n",
       "      <th></th>\n",
       "      <th>experiment</th>\n",
       "      <th>date</th>\n",
       "      <th>hour</th>\n",
       "      <th>device_make</th>\n",
       "      <th>platform_os</th>\n",
       "      <th>user_response</th>\n",
       "    </tr>\n",
       "  </thead>\n",
       "  <tbody>\n",
       "    <tr>\n",
       "      <th>420</th>\n",
       "      <td>exposed</td>\n",
       "      <td>2020-07-09</td>\n",
       "      <td>20</td>\n",
       "      <td>Generic Smartphone</td>\n",
       "      <td>6</td>\n",
       "      <td>1</td>\n",
       "    </tr>\n",
       "    <tr>\n",
       "      <th>653</th>\n",
       "      <td>exposed</td>\n",
       "      <td>2020-07-05</td>\n",
       "      <td>8</td>\n",
       "      <td>Generic Smartphone</td>\n",
       "      <td>6</td>\n",
       "      <td>0</td>\n",
       "    </tr>\n",
       "    <tr>\n",
       "      <th>1215</th>\n",
       "      <td>exposed</td>\n",
       "      <td>2020-07-10</td>\n",
       "      <td>5</td>\n",
       "      <td>Samsung SM-G960F</td>\n",
       "      <td>6</td>\n",
       "      <td>0</td>\n",
       "    </tr>\n",
       "  </tbody>\n",
       "</table>\n",
       "</div>"
      ],
      "text/plain": [
       "     experiment        date  hour         device_make  platform_os  \\\n",
       "420     exposed  2020-07-09    20  Generic Smartphone            6   \n",
       "653     exposed  2020-07-05     8  Generic Smartphone            6   \n",
       "1215    exposed  2020-07-10     5    Samsung SM-G960F            6   \n",
       "\n",
       "      user_response  \n",
       "420               1  \n",
       "653               0  \n",
       "1215              0  "
      ]
     },
     "execution_count": 12,
     "metadata": {},
     "output_type": "execute_result"
    }
   ],
   "source": [
    "platform_df.sample(3)"
   ]
  },
  {
   "cell_type": "code",
   "execution_count": 8,
   "metadata": {},
   "outputs": [
    {
     "data": {
      "text/html": [
       "<div>\n",
       "<style scoped>\n",
       "    .dataframe tbody tr th:only-of-type {\n",
       "        vertical-align: middle;\n",
       "    }\n",
       "\n",
       "    .dataframe tbody tr th {\n",
       "        vertical-align: top;\n",
       "    }\n",
       "\n",
       "    .dataframe thead th {\n",
       "        text-align: right;\n",
       "    }\n",
       "</style>\n",
       "<table border=\"1\" class=\"dataframe\">\n",
       "  <thead>\n",
       "    <tr style=\"text-align: right;\">\n",
       "      <th></th>\n",
       "      <th>experiment</th>\n",
       "      <th>date</th>\n",
       "      <th>hour</th>\n",
       "      <th>device_make</th>\n",
       "      <th>platform_os</th>\n",
       "      <th>user_response</th>\n",
       "    </tr>\n",
       "  </thead>\n",
       "  <tbody>\n",
       "    <tr>\n",
       "      <th>898</th>\n",
       "      <td>0</td>\n",
       "      <td>1</td>\n",
       "      <td>9</td>\n",
       "      <td>13</td>\n",
       "      <td>1</td>\n",
       "      <td>0</td>\n",
       "    </tr>\n",
       "    <tr>\n",
       "      <th>1166</th>\n",
       "      <td>0</td>\n",
       "      <td>0</td>\n",
       "      <td>15</td>\n",
       "      <td>13</td>\n",
       "      <td>1</td>\n",
       "      <td>0</td>\n",
       "    </tr>\n",
       "    <tr>\n",
       "      <th>847</th>\n",
       "      <td>0</td>\n",
       "      <td>0</td>\n",
       "      <td>15</td>\n",
       "      <td>13</td>\n",
       "      <td>1</td>\n",
       "      <td>0</td>\n",
       "    </tr>\n",
       "  </tbody>\n",
       "</table>\n",
       "</div>"
      ],
      "text/plain": [
       "      experiment  date  hour  device_make  platform_os  user_response\n",
       "898            0     1     9           13            1              0\n",
       "1166           0     0    15           13            1              0\n",
       "847            0     0    15           13            1              0"
      ]
     },
     "execution_count": 8,
     "metadata": {},
     "output_type": "execute_result"
    }
   ],
   "source": [
    "encoded_platform_df = encode_platform_labels(platform_df)\n",
    "encoded_platform_df.sample(3)\n"
   ]
  },
  {
   "cell_type": "markdown",
   "metadata": {},
   "source": [
    "<h5>Setting up training,validation and testing data</h5>"
   ]
  },
  {
   "cell_type": "code",
   "execution_count": 9,
   "metadata": {},
   "outputs": [],
   "source": [
    "split_browser_data=SplitData(encoded_browser_df)\n",
    "split_browser_data"
   ]
  },
  {
   "cell_type": "code",
   "execution_count": 10,
   "metadata": {},
   "outputs": [],
   "source": [
    "split_platform_data=SplitData(encoded_platform_df)"
   ]
  },
  {
   "cell_type": "code",
   "execution_count": 11,
   "metadata": {},
   "outputs": [],
   "source": [
    "Xb_train, Xb_test, yb_train, yb_test=split_browser_data.test_validate_train(0.7,'user_response')"
   ]
  },
  {
   "cell_type": "code",
   "execution_count": 15,
   "metadata": {},
   "outputs": [
    {
     "data": {
      "text/html": [
       "<div>\n",
       "<style scoped>\n",
       "    .dataframe tbody tr th:only-of-type {\n",
       "        vertical-align: middle;\n",
       "    }\n",
       "\n",
       "    .dataframe tbody tr th {\n",
       "        vertical-align: top;\n",
       "    }\n",
       "\n",
       "    .dataframe thead th {\n",
       "        text-align: right;\n",
       "    }\n",
       "</style>\n",
       "<table border=\"1\" class=\"dataframe\">\n",
       "  <thead>\n",
       "    <tr style=\"text-align: right;\">\n",
       "      <th></th>\n",
       "      <th>experiment</th>\n",
       "      <th>date</th>\n",
       "      <th>hour</th>\n",
       "      <th>device_make</th>\n",
       "      <th>browser</th>\n",
       "    </tr>\n",
       "  </thead>\n",
       "  <tbody>\n",
       "    <tr>\n",
       "      <th>1131</th>\n",
       "      <td>0</td>\n",
       "      <td>0</td>\n",
       "      <td>15</td>\n",
       "      <td>13</td>\n",
       "      <td>1</td>\n",
       "    </tr>\n",
       "    <tr>\n",
       "      <th>363</th>\n",
       "      <td>1</td>\n",
       "      <td>5</td>\n",
       "      <td>16</td>\n",
       "      <td>13</td>\n",
       "      <td>1</td>\n",
       "    </tr>\n",
       "    <tr>\n",
       "      <th>947</th>\n",
       "      <td>0</td>\n",
       "      <td>0</td>\n",
       "      <td>15</td>\n",
       "      <td>13</td>\n",
       "      <td>1</td>\n",
       "    </tr>\n",
       "    <tr>\n",
       "      <th>932</th>\n",
       "      <td>1</td>\n",
       "      <td>2</td>\n",
       "      <td>7</td>\n",
       "      <td>13</td>\n",
       "      <td>1</td>\n",
       "    </tr>\n",
       "    <tr>\n",
       "      <th>858</th>\n",
       "      <td>1</td>\n",
       "      <td>2</td>\n",
       "      <td>11</td>\n",
       "      <td>13</td>\n",
       "      <td>1</td>\n",
       "    </tr>\n",
       "    <tr>\n",
       "      <th>...</th>\n",
       "      <td>...</td>\n",
       "      <td>...</td>\n",
       "      <td>...</td>\n",
       "      <td>...</td>\n",
       "      <td>...</td>\n",
       "    </tr>\n",
       "    <tr>\n",
       "      <th>1044</th>\n",
       "      <td>0</td>\n",
       "      <td>0</td>\n",
       "      <td>15</td>\n",
       "      <td>13</td>\n",
       "      <td>1</td>\n",
       "    </tr>\n",
       "    <tr>\n",
       "      <th>1095</th>\n",
       "      <td>0</td>\n",
       "      <td>6</td>\n",
       "      <td>8</td>\n",
       "      <td>13</td>\n",
       "      <td>1</td>\n",
       "    </tr>\n",
       "    <tr>\n",
       "      <th>1130</th>\n",
       "      <td>0</td>\n",
       "      <td>0</td>\n",
       "      <td>15</td>\n",
       "      <td>91</td>\n",
       "      <td>2</td>\n",
       "    </tr>\n",
       "    <tr>\n",
       "      <th>860</th>\n",
       "      <td>0</td>\n",
       "      <td>1</td>\n",
       "      <td>6</td>\n",
       "      <td>13</td>\n",
       "      <td>1</td>\n",
       "    </tr>\n",
       "    <tr>\n",
       "      <th>1126</th>\n",
       "      <td>0</td>\n",
       "      <td>6</td>\n",
       "      <td>4</td>\n",
       "      <td>13</td>\n",
       "      <td>1</td>\n",
       "    </tr>\n",
       "  </tbody>\n",
       "</table>\n",
       "<p>1118 rows × 5 columns</p>\n",
       "</div>"
      ],
      "text/plain": [
       "      experiment  date  hour  device_make  browser\n",
       "1131           0     0    15           13        1\n",
       "363            1     5    16           13        1\n",
       "947            0     0    15           13        1\n",
       "932            1     2     7           13        1\n",
       "858            1     2    11           13        1\n",
       "...          ...   ...   ...          ...      ...\n",
       "1044           0     0    15           13        1\n",
       "1095           0     6     8           13        1\n",
       "1130           0     0    15           91        2\n",
       "860            0     1     6           13        1\n",
       "1126           0     6     4           13        1\n",
       "\n",
       "[1118 rows x 5 columns]"
      ]
     },
     "execution_count": 15,
     "metadata": {},
     "output_type": "execute_result"
    }
   ],
   "source": [
    "Xb_train\n"
   ]
  },
  {
   "cell_type": "code",
   "execution_count": 44,
   "metadata": {},
   "outputs": [],
   "source": [
    "Xp_train, Xp_test, yp_train, yp_test = split_platform_data.test_validate_train(0.7, \"user_response\")\n"
   ]
  },
  {
   "cell_type": "markdown",
   "metadata": {},
   "source": [
    "<h2>Training with each dataset</h2>"
   ]
  },
  {
   "cell_type": "markdown",
   "metadata": {},
   "source": [
    "<h2>Logistic Regression</h2>"
   ]
  },
  {
   "cell_type": "markdown",
   "metadata": {},
   "source": [
    "<h4>Browser Data</h4>"
   ]
  },
  {
   "cell_type": "code",
   "execution_count": 22,
   "metadata": {},
   "outputs": [
    {
     "name": "stdout",
     "output_type": "stream",
     "text": [
      "[0.54017857 0.52678571 0.57589286 0.53363229 0.52914798]\n",
      "Mean LogisticRegression score : 0.5411274823830878\n"
     ]
    }
   ],
   "source": [
    "logreg=LogisticRegression(random_state=None)\n",
    "logreg.fit(Xb_train,yb_train) \n",
    "scores=cross_val_score(estimator=logreg,X=Xb_train,y=yb_train,cv=5,scoring='accuracy')\n",
    "print(scores)\n",
    "print('Mean LogisticRegression score :',scores.mean())"
   ]
  },
  {
   "cell_type": "code",
   "execution_count": 27,
   "metadata": {},
   "outputs": [
    {
     "data": {
      "text/html": [
       "<div>\n",
       "<style scoped>\n",
       "    .dataframe tbody tr th:only-of-type {\n",
       "        vertical-align: middle;\n",
       "    }\n",
       "\n",
       "    .dataframe tbody tr th {\n",
       "        vertical-align: top;\n",
       "    }\n",
       "\n",
       "    .dataframe thead th {\n",
       "        text-align: right;\n",
       "    }\n",
       "</style>\n",
       "<table border=\"1\" class=\"dataframe\">\n",
       "  <thead>\n",
       "    <tr style=\"text-align: right;\">\n",
       "      <th></th>\n",
       "      <th>Feature Importance</th>\n",
       "    </tr>\n",
       "    <tr>\n",
       "      <th>Feature</th>\n",
       "      <th></th>\n",
       "    </tr>\n",
       "  </thead>\n",
       "  <tbody>\n",
       "    <tr>\n",
       "      <th>experiment</th>\n",
       "      <td>0.108938</td>\n",
       "    </tr>\n",
       "    <tr>\n",
       "      <th>hour</th>\n",
       "      <td>0.023656</td>\n",
       "    </tr>\n",
       "    <tr>\n",
       "      <th>device_make</th>\n",
       "      <td>0.003224</td>\n",
       "    </tr>\n",
       "    <tr>\n",
       "      <th>date</th>\n",
       "      <td>0.001580</td>\n",
       "    </tr>\n",
       "    <tr>\n",
       "      <th>browser</th>\n",
       "      <td>-0.040317</td>\n",
       "    </tr>\n",
       "  </tbody>\n",
       "</table>\n",
       "</div>"
      ],
      "text/plain": [
       "             Feature Importance\n",
       "Feature                        \n",
       "experiment             0.108938\n",
       "hour                   0.023656\n",
       "device_make            0.003224\n",
       "date                   0.001580\n",
       "browser               -0.040317"
      ]
     },
     "execution_count": 27,
     "metadata": {},
     "output_type": "execute_result"
    }
   ],
   "source": [
    "feat_imp_log = pd.DataFrame({\"Feature Importance\": logreg.coef_[0]})\n",
    "feat_imp_log[\"Feature\"] = ['experiment'\t,'date'\t,'hour','device_make',\t'browser']\n",
    "feat_imp_log = feat_imp_log.set_index(\"Feature\")\n",
    "feat_imp_log = feat_imp_log.sort_values(by=[\"Feature Importance\"], ascending=False)\n",
    "feat_imp_log"
   ]
  },
  {
   "cell_type": "code",
   "execution_count": 46,
   "metadata": {},
   "outputs": [
    {
     "data": {
      "text/plain": [
       "<AxesSubplot:title={'center':'Feature Importance'}, xlabel='Feature'>"
      ]
     },
     "execution_count": 46,
     "metadata": {},
     "output_type": "execute_result"
    },
    {
     "data": {
      "image/png": "[encoded data removed]",
      "text/plain": [
       "<Figure size 720x360 with 1 Axes>"
      ]
     },
     "metadata": {
      "needs_background": "light"
     },
     "output_type": "display_data"
    }
   ],
   "source": [
    "feat_imp_log.plot.bar(figsize=(10,5), title = \"Feature Importance\", fontsize=10, rot=90, color='r')"
   ]
  },
  {
   "cell_type": "markdown",
   "metadata": {},
   "source": [
    "<h4>Platform Data</h4>"
   ]
  },
  {
   "cell_type": "code",
   "execution_count": 49,
   "metadata": {},
   "outputs": [
    {
     "name": "stdout",
     "output_type": "stream",
     "text": [
      "[0.54464286 0.54017857 0.57142857 0.52017937 0.53363229]\n",
      "Mean LogisticRegression score : 0.542012331838565\n"
     ]
    }
   ],
   "source": [
    "logregp=LogisticRegression(random_state=None)\n",
    "logregp.fit(Xp_train,yp_train) \n",
    "scores=cross_val_score(estimator=logreg,X=Xp_train,y=yp_train,cv=5,scoring='accuracy')\n",
    "print(scores)\n",
    "print('Mean LogisticRegression score :',scores.mean())"
   ]
  },
  {
   "cell_type": "code",
   "execution_count": 52,
   "metadata": {},
   "outputs": [
    {
     "data": {
      "text/html": [
       "<div>\n",
       "<style scoped>\n",
       "    .dataframe tbody tr th:only-of-type {\n",
       "        vertical-align: middle;\n",
       "    }\n",
       "\n",
       "    .dataframe tbody tr th {\n",
       "        vertical-align: top;\n",
       "    }\n",
       "\n",
       "    .dataframe thead th {\n",
       "        text-align: right;\n",
       "    }\n",
       "</style>\n",
       "<table border=\"1\" class=\"dataframe\">\n",
       "  <thead>\n",
       "    <tr style=\"text-align: right;\">\n",
       "      <th></th>\n",
       "      <th>Feature Importance</th>\n",
       "    </tr>\n",
       "    <tr>\n",
       "      <th>Feature</th>\n",
       "      <th></th>\n",
       "    </tr>\n",
       "  </thead>\n",
       "  <tbody>\n",
       "    <tr>\n",
       "      <th>platform_os</th>\n",
       "      <td>0.561954</td>\n",
       "    </tr>\n",
       "    <tr>\n",
       "      <th>experiment</th>\n",
       "      <td>0.119903</td>\n",
       "    </tr>\n",
       "    <tr>\n",
       "      <th>hour</th>\n",
       "      <td>0.022742</td>\n",
       "    </tr>\n",
       "    <tr>\n",
       "      <th>device_make</th>\n",
       "      <td>0.002181</td>\n",
       "    </tr>\n",
       "    <tr>\n",
       "      <th>date</th>\n",
       "      <td>0.001086</td>\n",
       "    </tr>\n",
       "  </tbody>\n",
       "</table>\n",
       "</div>"
      ],
      "text/plain": [
       "             Feature Importance\n",
       "Feature                        \n",
       "platform_os            0.561954\n",
       "experiment             0.119903\n",
       "hour                   0.022742\n",
       "device_make            0.002181\n",
       "date                   0.001086"
      ]
     },
     "execution_count": 52,
     "metadata": {},
     "output_type": "execute_result"
    }
   ],
   "source": [
    "feat_imp_log = pd.DataFrame({\"Feature Importance\": logregp.coef_[0]})\n",
    "feat_imp_log[\"Feature\"] = [\"experiment\", \"date\", \"hour\", \"device_make\", \"platform_os\"]\n",
    "feat_imp_log = feat_imp_log.set_index(\"Feature\")\n",
    "feat_imp_log = feat_imp_log.sort_values(by=[\"Feature Importance\"], ascending=False)\n",
    "feat_imp_log\n"
   ]
  },
  {
   "cell_type": "code",
   "execution_count": 53,
   "metadata": {},
   "outputs": [
    {
     "data": {
      "text/plain": [
       "<AxesSubplot:title={'center':'Feature Importance'}, xlabel='Feature'>"
      ]
     },
     "execution_count": 53,
     "metadata": {},
     "output_type": "execute_result"
    },
    {
     "data": {
      "image/png": "[encoded data removed]",
      "text/plain": [
       "<Figure size 720x360 with 1 Axes>"
      ]
     },
     "metadata": {
      "needs_background": "light"
     },
     "output_type": "display_data"
    }
   ],
   "source": [
    "feat_imp_log.plot.bar(\n",
    "    figsize=(10, 5), title=\"Feature Importance\", fontsize=10, rot=90, color=\"r\"\n",
    ")\n"
   ]
  },
  {
   "cell_type": "markdown",
   "metadata": {},
   "source": [
    "<h2>Decision Tree</h2>"
   ]
  },
  {
   "cell_type": "markdown",
   "metadata": {},
   "source": [
    "<h4>Browser Data</h4>"
   ]
  },
  {
   "cell_type": "code",
   "execution_count": 23,
   "metadata": {},
   "outputs": [
    {
     "name": "stdout",
     "output_type": "stream",
     "text": [
      "[0.55803571 0.51339286 0.48660714 0.56053812 0.49775785]\n",
      "Mean clf score : 0.5232663356822549\n"
     ]
    }
   ],
   "source": [
    "dec = DecisionTreeClassifier()\n",
    "dec.fit(Xb_train, yb_train)\n",
    "dec_scores = cross_val_score(\n",
    "    estimator=dec, X=Xb_train, y=yb_train, cv=5, scoring=\"accuracy\"\n",
    ")\n",
    "print(dec_scores)\n",
    "print(\"Mean clf score :\", dec_scores.mean())\n"
   ]
  },
  {
   "cell_type": "code",
   "execution_count": 31,
   "metadata": {},
   "outputs": [
    {
     "data": {
      "text/html": [
       "<div>\n",
       "<style scoped>\n",
       "    .dataframe tbody tr th:only-of-type {\n",
       "        vertical-align: middle;\n",
       "    }\n",
       "\n",
       "    .dataframe tbody tr th {\n",
       "        vertical-align: top;\n",
       "    }\n",
       "\n",
       "    .dataframe thead th {\n",
       "        text-align: right;\n",
       "    }\n",
       "</style>\n",
       "<table border=\"1\" class=\"dataframe\">\n",
       "  <thead>\n",
       "    <tr style=\"text-align: right;\">\n",
       "      <th></th>\n",
       "      <th>Feature Importance</th>\n",
       "    </tr>\n",
       "    <tr>\n",
       "      <th>Feature</th>\n",
       "      <th></th>\n",
       "    </tr>\n",
       "  </thead>\n",
       "  <tbody>\n",
       "    <tr>\n",
       "      <th>hour</th>\n",
       "      <td>0.323808</td>\n",
       "    </tr>\n",
       "    <tr>\n",
       "      <th>device_make</th>\n",
       "      <td>0.263280</td>\n",
       "    </tr>\n",
       "    <tr>\n",
       "      <th>date</th>\n",
       "      <td>0.243020</td>\n",
       "    </tr>\n",
       "    <tr>\n",
       "      <th>browser</th>\n",
       "      <td>0.093310</td>\n",
       "    </tr>\n",
       "    <tr>\n",
       "      <th>experiment</th>\n",
       "      <td>0.076583</td>\n",
       "    </tr>\n",
       "  </tbody>\n",
       "</table>\n",
       "</div>"
      ],
      "text/plain": [
       "             Feature Importance\n",
       "Feature                        \n",
       "hour                   0.323808\n",
       "device_make            0.263280\n",
       "date                   0.243020\n",
       "browser                0.093310\n",
       "experiment             0.076583"
      ]
     },
     "execution_count": 31,
     "metadata": {},
     "output_type": "execute_result"
    }
   ],
   "source": [
    "feat_imp_dec = pd.DataFrame({\"Feature Importance\": dec.feature_importances_})\n",
    "feat_imp_dec[\"Feature\"] = [\"experiment\", \"date\", \"hour\", \"device_make\", \"browser\"]\n",
    "feat_imp_dec = feat_imp_dec.set_index(\"Feature\")\n",
    "feat_imp_dec = feat_imp_dec.sort_values(by=[\"Feature Importance\"], ascending=False)\n",
    "feat_imp_dec\n"
   ]
  },
  {
   "cell_type": "code",
   "execution_count": 54,
   "metadata": {},
   "outputs": [
    {
     "data": {
      "text/plain": [
       "<AxesSubplot:title={'center':'Feature Importance'}, xlabel='Feature'>"
      ]
     },
     "execution_count": 54,
     "metadata": {},
     "output_type": "execute_result"
    },
    {
     "data": {
      "image/png": "[encoded data removed]",
      "text/plain": [
       "<Figure size 720x360 with 1 Axes>"
      ]
     },
     "metadata": {
      "needs_background": "light"
     },
     "output_type": "display_data"
    }
   ],
   "source": [
    "feat_imp_dec.plot.bar(\n",
    "    figsize=(10, 5), title=\"Feature Importance\", fontsize=14, rot=90, color=\"y\"\n",
    ")\n"
   ]
  },
  {
   "cell_type": "markdown",
   "metadata": {},
   "source": [
    "<h4>Platform Data</h5>"
   ]
  },
  {
   "cell_type": "code",
   "execution_count": 55,
   "metadata": {},
   "outputs": [
    {
     "name": "stdout",
     "output_type": "stream",
     "text": [
      "[0.54464286 0.52232143 0.51339286 0.58295964 0.51121076]\n",
      "Mean clf score : 0.5349055092889173\n"
     ]
    }
   ],
   "source": [
    "dec = DecisionTreeClassifier()\n",
    "dec.fit(Xp_train, yp_train)\n",
    "dec_scores = cross_val_score(\n",
    "    estimator=dec, X=Xp_train, y=yp_train, cv=5, scoring=\"accuracy\"\n",
    ")\n",
    "print(dec_scores)\n",
    "print(\"Mean clf score :\", dec_scores.mean())"
   ]
  },
  {
   "cell_type": "code",
   "execution_count": 56,
   "metadata": {},
   "outputs": [
    {
     "data": {
      "text/html": [
       "<div>\n",
       "<style scoped>\n",
       "    .dataframe tbody tr th:only-of-type {\n",
       "        vertical-align: middle;\n",
       "    }\n",
       "\n",
       "    .dataframe tbody tr th {\n",
       "        vertical-align: top;\n",
       "    }\n",
       "\n",
       "    .dataframe thead th {\n",
       "        text-align: right;\n",
       "    }\n",
       "</style>\n",
       "<table border=\"1\" class=\"dataframe\">\n",
       "  <thead>\n",
       "    <tr style=\"text-align: right;\">\n",
       "      <th></th>\n",
       "      <th>Feature Importance</th>\n",
       "    </tr>\n",
       "    <tr>\n",
       "      <th>Feature</th>\n",
       "      <th></th>\n",
       "    </tr>\n",
       "  </thead>\n",
       "  <tbody>\n",
       "    <tr>\n",
       "      <th>hour</th>\n",
       "      <td>0.330408</td>\n",
       "    </tr>\n",
       "    <tr>\n",
       "      <th>device_make</th>\n",
       "      <td>0.305530</td>\n",
       "    </tr>\n",
       "    <tr>\n",
       "      <th>date</th>\n",
       "      <td>0.275178</td>\n",
       "    </tr>\n",
       "    <tr>\n",
       "      <th>experiment</th>\n",
       "      <td>0.088885</td>\n",
       "    </tr>\n",
       "    <tr>\n",
       "      <th>platform_os</th>\n",
       "      <td>0.000000</td>\n",
       "    </tr>\n",
       "  </tbody>\n",
       "</table>\n",
       "</div>"
      ],
      "text/plain": [
       "             Feature Importance\n",
       "Feature                        \n",
       "hour                   0.330408\n",
       "device_make            0.305530\n",
       "date                   0.275178\n",
       "experiment             0.088885\n",
       "platform_os            0.000000"
      ]
     },
     "execution_count": 56,
     "metadata": {},
     "output_type": "execute_result"
    }
   ],
   "source": [
    "feat_imp_dec = pd.DataFrame({\"Feature Importance\": dec.feature_importances_})\n",
    "feat_imp_dec[\"Feature\"] = [\"experiment\", \"date\", \"hour\", \"device_make\", \"platform_os\"]\n",
    "feat_imp_dec = feat_imp_dec.set_index(\"Feature\")\n",
    "feat_imp_dec = feat_imp_dec.sort_values(by=[\"Feature Importance\"], ascending=False)\n",
    "feat_imp_dec"
   ]
  },
  {
   "cell_type": "code",
   "execution_count": 57,
   "metadata": {},
   "outputs": [
    {
     "data": {
      "text/plain": [
       "<AxesSubplot:title={'center':'Feature Importance'}, xlabel='Feature'>"
      ]
     },
     "execution_count": 57,
     "metadata": {},
     "output_type": "execute_result"
    },
    {
     "data": {
      "image/png": "[encoded data removed]",
      "text/plain": [
       "<Figure size 720x360 with 1 Axes>"
      ]
     },
     "metadata": {
      "needs_background": "light"
     },
     "output_type": "display_data"
    }
   ],
   "source": [
    "feat_imp_dec.plot.bar(\n",
    "    figsize=(10, 5), title=\"Feature Importance\", fontsize=14, rot=90, color=\"y\"\n",
    ")\n"
   ]
  },
  {
   "cell_type": "markdown",
   "metadata": {},
   "source": [
    "<h2>XGBoost</h2>"
   ]
  },
  {
   "cell_type": "markdown",
   "metadata": {},
   "source": [
    "<h4>Browser Data</h4>"
   ]
  },
  {
   "cell_type": "code",
   "execution_count": 33,
   "metadata": {},
   "outputs": [
    {
     "name": "stderr",
     "output_type": "stream",
     "text": [
      "c:\\Users\\hp\\anaconda3\\envs\\week1\\lib\\site-packages\\xgboost\\sklearn.py:793: UserWarning: `early_stopping_rounds` in `fit` method is deprecated for better compatibility with scikit-learn, use `early_stopping_rounds` in constructor or`set_params` instead.\n",
      "  warnings.warn(\n"
     ]
    }
   ],
   "source": [
    "xgb = XGBClassifier(n_estimators=1000, learning_rate=0.05)\n",
    "# We fit our model with our train data\n",
    "xgb.fit(\n",
    "    Xb_train,\n",
    "    yb_train,\n",
    "    # That means if model don't improve it self in 5 rounds, it will stop learning\n",
    "    # So you can save your time and don't overtrain your model.\n",
    "    early_stopping_rounds=5,\n",
    "    # We provide Test data's to evaluate model performance\n",
    "    eval_set=[(Xb_test, yb_test)],\n",
    "    verbose=False,\n",
    ")\n",
    "# Then predict results from X_test data\n",
    "pred_xgb = xgb.predict(Xb_test)\n"
   ]
  },
  {
   "cell_type": "code",
   "execution_count": 34,
   "metadata": {},
   "outputs": [
    {
     "data": {
      "text/plain": [
       "<AxesSubplot:title={'center':'Feature importance'}, xlabel='F score', ylabel='Features'>"
      ]
     },
     "execution_count": 34,
     "metadata": {},
     "output_type": "execute_result"
    },
    {
     "data": {
      "image/png": "[encoded data removed]",
      "text/plain": [
       "<Figure size 432x288 with 1 Axes>"
      ]
     },
     "metadata": {
      "needs_background": "light"
     },
     "output_type": "display_data"
    }
   ],
   "source": [
    "from xgboost import plot_importance\n",
    "plot_importance(xgb)\n"
   ]
  },
  {
   "cell_type": "markdown",
   "metadata": {},
   "source": [
    "<h4>Platform Data</h4>"
   ]
  },
  {
   "cell_type": "code",
   "execution_count": 59,
   "metadata": {},
   "outputs": [
    {
     "data": {
      "text/plain": [
       "<AxesSubplot:title={'center':'Feature importance'}, xlabel='F score', ylabel='Features'>"
      ]
     },
     "execution_count": 59,
     "metadata": {},
     "output_type": "execute_result"
    },
    {
     "data": {
      "image/png": "[encoded data removed]",
      "text/plain": [
       "<Figure size 432x288 with 1 Axes>"
      ]
     },
     "metadata": {
      "needs_background": "light"
     },
     "output_type": "display_data"
    }
   ],
   "source": [
    "xgb = XGBClassifier(n_estimators=1000, learning_rate=0.05)\n",
    "# We fit our model with our train data\n",
    "xgb.fit(\n",
    "    Xp_train,\n",
    "    yp_train,\n",
    "    # That means if model don't improve it self in 5 rounds, it will stop learning\n",
    "    # So you can save your time and don't overtrain your model.\n",
    "    early_stopping_rounds=5,\n",
    "    # We provide Test data's to evaluate model performance\n",
    "    eval_set=[(Xp_test, yp_test)],\n",
    "    verbose=False,\n",
    ")\n",
    "# Then predict results from X_test data\n",
    "pred_xgb = xgb.predict(Xp_test)\n",
    "plot_importance(xgb)\n"
   ]
  },
  {
   "cell_type": "markdown",
   "metadata": {},
   "source": [
    "<h2>Random Forest</h2>"
   ]
  },
  {
   "cell_type": "markdown",
   "metadata": {},
   "source": [
    "<h4>Browser Data</h4>"
   ]
  },
  {
   "cell_type": "code",
   "execution_count": 39,
   "metadata": {},
   "outputs": [],
   "source": [
    "rfc = RandomForestClassifier(n_estimators=100)\n",
    "\n",
    "# We fit our model with our train data\n",
    "rfc.fit(Xb_train, yb_train)\n",
    "\n",
    "pred_rfc = rfc.predict(Xb_test)\n",
    "\n"
   ]
  },
  {
   "cell_type": "code",
   "execution_count": 40,
   "metadata": {},
   "outputs": [
    {
     "data": {
      "text/html": [
       "<div>\n",
       "<style scoped>\n",
       "    .dataframe tbody tr th:only-of-type {\n",
       "        vertical-align: middle;\n",
       "    }\n",
       "\n",
       "    .dataframe tbody tr th {\n",
       "        vertical-align: top;\n",
       "    }\n",
       "\n",
       "    .dataframe thead th {\n",
       "        text-align: right;\n",
       "    }\n",
       "</style>\n",
       "<table border=\"1\" class=\"dataframe\">\n",
       "  <thead>\n",
       "    <tr style=\"text-align: right;\">\n",
       "      <th></th>\n",
       "      <th>Feature Importance</th>\n",
       "    </tr>\n",
       "    <tr>\n",
       "      <th>Feature</th>\n",
       "      <th></th>\n",
       "    </tr>\n",
       "  </thead>\n",
       "  <tbody>\n",
       "    <tr>\n",
       "      <th>hour</th>\n",
       "      <td>0.410414</td>\n",
       "    </tr>\n",
       "    <tr>\n",
       "      <th>device_make</th>\n",
       "      <td>0.274852</td>\n",
       "    </tr>\n",
       "    <tr>\n",
       "      <th>date</th>\n",
       "      <td>0.184800</td>\n",
       "    </tr>\n",
       "    <tr>\n",
       "      <th>browser</th>\n",
       "      <td>0.080541</td>\n",
       "    </tr>\n",
       "    <tr>\n",
       "      <th>experiment</th>\n",
       "      <td>0.049392</td>\n",
       "    </tr>\n",
       "  </tbody>\n",
       "</table>\n",
       "</div>"
      ],
      "text/plain": [
       "             Feature Importance\n",
       "Feature                        \n",
       "hour                   0.410414\n",
       "device_make            0.274852\n",
       "date                   0.184800\n",
       "browser                0.080541\n",
       "experiment             0.049392"
      ]
     },
     "execution_count": 40,
     "metadata": {},
     "output_type": "execute_result"
    }
   ],
   "source": [
    "feat_imp_rfc = pd.DataFrame({\"Feature Importance\": rfc.feature_importances_})\n",
    "feat_imp_rfc[\"Feature\"] = [\"experiment\", \"date\", \"hour\", \"device_make\", \"browser\"]\n",
    "feat_imp_rfc = feat_imp_rfc.set_index(\"Feature\")\n",
    "feat_imp_rfc = feat_imp_rfc.sort_values(by=[\"Feature Importance\"], ascending=False)\n",
    "feat_imp_rfc\n"
   ]
  },
  {
   "cell_type": "code",
   "execution_count": 60,
   "metadata": {},
   "outputs": [
    {
     "data": {
      "text/plain": [
       "<AxesSubplot:title={'center':'Feature Importance'}, xlabel='Feature'>"
      ]
     },
     "execution_count": 60,
     "metadata": {},
     "output_type": "execute_result"
    },
    {
     "data": {
      "image/png": "[encoded data removed]",
      "text/plain": [
       "<Figure size 720x360 with 1 Axes>"
      ]
     },
     "metadata": {
      "needs_background": "light"
     },
     "output_type": "display_data"
    }
   ],
   "source": [
    "feat_imp_rfc.plot.bar(\n",
    "    figsize=(10, 5), title=\"Feature Importance\", fontsize=14, rot=90, color=\"g\"\n",
    ")\n"
   ]
  },
  {
   "cell_type": "markdown",
   "metadata": {},
   "source": [
    "<h4>Platform Data</h4>"
   ]
  },
  {
   "cell_type": "code",
   "execution_count": 61,
   "metadata": {},
   "outputs": [],
   "source": [
    "rfc = RandomForestClassifier(n_estimators=100)\n",
    "\n",
    "# We fit our model with our train data\n",
    "rfc.fit(Xp_train, yp_train)\n",
    "\n",
    "pred_rfc = rfc.predict(Xp_test)\n"
   ]
  },
  {
   "cell_type": "code",
   "execution_count": 64,
   "metadata": {},
   "outputs": [
    {
     "data": {
      "text/html": [
       "<div>\n",
       "<style scoped>\n",
       "    .dataframe tbody tr th:only-of-type {\n",
       "        vertical-align: middle;\n",
       "    }\n",
       "\n",
       "    .dataframe tbody tr th {\n",
       "        vertical-align: top;\n",
       "    }\n",
       "\n",
       "    .dataframe thead th {\n",
       "        text-align: right;\n",
       "    }\n",
       "</style>\n",
       "<table border=\"1\" class=\"dataframe\">\n",
       "  <thead>\n",
       "    <tr style=\"text-align: right;\">\n",
       "      <th></th>\n",
       "      <th>Feature Importance</th>\n",
       "    </tr>\n",
       "    <tr>\n",
       "      <th>Feature</th>\n",
       "      <th></th>\n",
       "    </tr>\n",
       "  </thead>\n",
       "  <tbody>\n",
       "    <tr>\n",
       "      <th>hour</th>\n",
       "      <td>0.408855</td>\n",
       "    </tr>\n",
       "    <tr>\n",
       "      <th>device_make</th>\n",
       "      <td>0.359994</td>\n",
       "    </tr>\n",
       "    <tr>\n",
       "      <th>date</th>\n",
       "      <td>0.187158</td>\n",
       "    </tr>\n",
       "    <tr>\n",
       "      <th>experiment</th>\n",
       "      <td>0.039563</td>\n",
       "    </tr>\n",
       "    <tr>\n",
       "      <th>platform_os</th>\n",
       "      <td>0.004430</td>\n",
       "    </tr>\n",
       "  </tbody>\n",
       "</table>\n",
       "</div>"
      ],
      "text/plain": [
       "             Feature Importance\n",
       "Feature                        \n",
       "hour                   0.408855\n",
       "device_make            0.359994\n",
       "date                   0.187158\n",
       "experiment             0.039563\n",
       "platform_os            0.004430"
      ]
     },
     "execution_count": 64,
     "metadata": {},
     "output_type": "execute_result"
    }
   ],
   "source": [
    "feat_imp_rfc = pd.DataFrame({\"Feature Importance\": rfc.feature_importances_})\n",
    "feat_imp_rfc[\"Feature\"] = [\"experiment\", \"date\", \"hour\", \"device_make\", \"platform_os\"]\n",
    "feat_imp_rfc = feat_imp_rfc.set_index(\"Feature\")\n",
    "feat_imp_rfc = feat_imp_rfc.sort_values(by=[\"Feature Importance\"], ascending=False)\n",
    "feat_imp_rfc\n"
   ]
  },
  {
   "cell_type": "code",
   "execution_count": 65,
   "metadata": {},
   "outputs": [
    {
     "data": {
      "text/plain": [
       "<AxesSubplot:title={'center':'Feature Importance'}, xlabel='Feature'>"
      ]
     },
     "execution_count": 65,
     "metadata": {},
     "output_type": "execute_result"
    },
    {
     "data": {
      "image/png": "[encoded data removed]",
      "text/plain": [
       "<Figure size 720x360 with 1 Axes>"
      ]
     },
     "metadata": {
      "needs_background": "light"
     },
     "output_type": "display_data"
    }
   ],
   "source": [
    "feat_imp_rfc.plot.bar(\n",
    "    figsize=(10, 5), title=\"Feature Importance\", fontsize=14, rot=90, color=\"g\"\n",
    ")"
   ]
  },
  {
   "cell_type": "code",
   "execution_count": null,
   "metadata": {},
   "outputs": [],
   "source": []
  }
 ],
 "metadata": {
  "interpreter": {
   "hash": "af3b5149a5eded4321c57d7197d471db046016918ba9e1579f3b1a0b4f8e1211"
  },
  "kernelspec": {
   "display_name": "Python 3.9.12 ('week1')",
   "language": "python",
   "name": "python3"
  },
  "language_info": {
   "codemirror_mode": {
    "name": "ipython",
    "version": 3
   },
   "file_extension": ".py",
   "mimetype": "text/x-python",
   "name": "python",
   "nbconvert_exporter": "python",
   "pygments_lexer": "ipython3",
   "version": "3.9.12"
  },
  "orig_nbformat": 4
 },
 "nbformat": 4,
 "nbformat_minor": 2
}
